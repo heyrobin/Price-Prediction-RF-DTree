{
  "nbformat": 4,
  "nbformat_minor": 5,
  "metadata": {
    "kernelspec": {
      "display_name": "Python 3",
      "language": "python",
      "name": "python3"
    },
    "language_info": {
      "codemirror_mode": {
        "name": "ipython",
        "version": 3
      },
      "file_extension": ".py",
      "mimetype": "text/x-python",
      "name": "python",
      "nbconvert_exporter": "python",
      "pygments_lexer": "ipython3",
      "version": "3.6.13"
    },
    "colab": {
      "name": "python-random-forests.ipynb",
      "provenance": [],
      "collapsed_sections": [
        "eight-source",
        "loved-clause"
      ],
      "include_colab_link": true
    }
  },
  "cells": [
    {
      "cell_type": "markdown",
      "metadata": {
        "id": "view-in-github",
        "colab_type": "text"
      },
      "source": [
        "<a href=\"https://colab.research.google.com/github/heyrobin/Price-Prediction-RF-DTree/blob/main/python_random_forests.ipynb\" target=\"_parent\"><img src=\"https://colab.research.google.com/assets/colab-badge.svg\" alt=\"Open In Colab\"/></a>"
      ]
    },
    {
      "cell_type": "markdown",
      "metadata": {
        "id": "completed-acrobat"
      },
      "source": [
        "-# Assignment - Decision Trees and Random Forests\n",
        "\n",
        "![](https://i.imgur.com/3sw1fY9.jpg)\n",
        "\n",
        "In this assignment, you'll continue building on the previous assignment to predict the price of a house using information like its location, area, no. of rooms etc. You'll use the dataset from the [House Prices - Advanced Regression Techniques](https://www.kaggle.com/c/house-prices-advanced-regression-techniques) competition on [Kaggle](https://kaggle.com). \n",
        "\n",
        "We'll follow a step-by-step process:\n",
        "\n",
        "1. Download and prepare the dataset for training\n",
        "2. Train, evaluate and interpret a decision tree\n",
        "3. Train, evaluate and interpret a random forest\n",
        "4. Tune hyperparameters to improve the model\n",
        "5. Make predictions and save the model\n",
        "\n",
        "As you go through this notebook, you will find a **???** in certain places. Your job is to replace the **???** with appropriate code or values, to ensure that the notebook runs properly end-to-end and your machine learning model is trained properly without errors. \n",
        "\n",
        "**Guidelines**\n",
        "\n",
        "1. Make sure to run all the code cells in order. Otherwise, you may get errors like `NameError` for undefined variables.\n",
        "2. Do not change variable names, delete cells, or disturb other existing code. It may cause problems during evaluation.\n",
        "3. In some cases, you may need to add some code cells or new statements before or after the line of code containing the **???**. \n",
        "4. Since you'll be using a temporary online service for code execution, save your work by running `jovian.commit` at regular intervals.\n",
        "5. Review the \"Evaluation Criteria\" for the assignment carefully and make sure your submission meets all the criteria.\n",
        "6. Questions marked **(Optional)** will not be considered for evaluation and can be skipped. They are for your learning.\n",
        "7. It's okay to ask for help & discuss ideas on the [community forum](https://jovian.ai/forum/c/zero-to-gbms/gbms-assignment-2/99), but please don't post full working code, to give everyone an opportunity to solve the assignment on their own.\n",
        "\n",
        "\n",
        "**Important Links**:\n",
        "\n",
        "- Make a submission here: https://jovian.ai/learn/machine-learning-with-python-zero-to-gbms/assignment/assignment-2-decision-trees-and-random-forests\n",
        "- Ask questions, discuss ideas and get help here: https://jovian.ai/forum/c/zero-to-gbms/gbms-assignment-2/99\n",
        "- Review this Jupyter notebook: https://jovian.ai/aakashns/sklearn-decision-trees-random-forests\n"
      ],
      "id": "completed-acrobat"
    },
    {
      "cell_type": "markdown",
      "metadata": {
        "id": "fluid-hormone"
      },
      "source": [
        "## How to Run the Code and Save Your Work\n",
        "\n",
        "**Option 1: Running using free online resources (1-click, recommended):** The easiest way to start executing the code is to click the **Run** button at the top of this page and select **Run on Binder**. This will set up a cloud-based Jupyter notebook server and allow you to modify/execute the code.\n",
        "\n",
        "\n",
        "**Option 2: Running on your computer locally:** To run the code on your computer locally, you'll need to set up [Python](https://www.python.org), download the notebook and install the required libraries. Click the **Run** button at the top of this page, select the **Run Locally** option, and follow the instructions.\n",
        "\n",
        "**Saving your work**: You can save a snapshot of the assignment to your [Jovian](https://jovian.ai) profile, so that you can access it later and continue your work. Keep saving your work by running `jovian.commit` from time to time."
      ],
      "id": "fluid-hormone"
    },
    {
      "cell_type": "markdown",
      "metadata": {
        "id": "hourly-rhythm"
      },
      "source": [
        "Let's begin by installing the required libraries."
      ],
      "id": "hourly-rhythm"
    },
    {
      "cell_type": "code",
      "metadata": {
        "id": "continent-yacht"
      },
      "source": [
        "!pip install opendatasets scikit-learn plotly folium --upgrade --quiet"
      ],
      "id": "continent-yacht",
      "execution_count": null,
      "outputs": []
    },
    {
      "cell_type": "code",
      "metadata": {
        "id": "australian-suicide"
      },
      "source": [
        "!pip install pandas numpy matplotlib seaborn --quiet"
      ],
      "id": "australian-suicide",
      "execution_count": null,
      "outputs": []
    },
    {
      "cell_type": "markdown",
      "metadata": {
        "id": "twelve-thanksgiving"
      },
      "source": [
        "## Download and prepare the dataset for training"
      ],
      "id": "twelve-thanksgiving"
    },
    {
      "cell_type": "code",
      "metadata": {
        "colab": {
          "base_uri": "https://localhost:8080/"
        },
        "id": "aggressive-taste",
        "outputId": "91c557c3-f7a8-4145-e852-63ec0298aa31"
      },
      "source": [
        "import os\n",
        "from zipfile import ZipFile\n",
        "from urllib.request import urlretrieve\n",
        "\n",
        "dataset_url = 'https://github.com/JovianML/opendatasets/raw/master/data/house-prices-advanced-regression-techniques.zip'\n",
        "urlretrieve(dataset_url, 'house-prices.zip')\n",
        "with ZipFile('house-prices.zip') as f:\n",
        "    f.extractall(path='house-prices')\n",
        "    \n",
        "os.listdir('house-prices')"
      ],
      "id": "aggressive-taste",
      "execution_count": null,
      "outputs": [
        {
          "output_type": "execute_result",
          "data": {
            "text/plain": [
              "['test.csv', 'train.csv', 'data_description.txt', 'sample_submission.csv']"
            ]
          },
          "metadata": {
            "tags": []
          },
          "execution_count": 196
        }
      ]
    },
    {
      "cell_type": "code",
      "metadata": {
        "colab": {
          "base_uri": "https://localhost:8080/",
          "height": 439
        },
        "id": "tracked-window",
        "outputId": "2db6da5d-fbdc-4f65-9e71-bef45c3dc39c"
      },
      "source": [
        "import pandas as pd\n",
        "pd.options.display.max_columns = 200\n",
        "pd.options.display.max_rows = 200\n",
        "\n",
        "prices_df = pd.read_csv('house-prices/train.csv')\n",
        "prices_df"
      ],
      "id": "tracked-window",
      "execution_count": null,
      "outputs": [
        {
          "output_type": "execute_result",
          "data": {
            "text/html": [
              "<div>\n",
              "<style scoped>\n",
              "    .dataframe tbody tr th:only-of-type {\n",
              "        vertical-align: middle;\n",
              "    }\n",
              "\n",
              "    .dataframe tbody tr th {\n",
              "        vertical-align: top;\n",
              "    }\n",
              "\n",
              "    .dataframe thead th {\n",
              "        text-align: right;\n",
              "    }\n",
              "</style>\n",
              "<table border=\"1\" class=\"dataframe\">\n",
              "  <thead>\n",
              "    <tr style=\"text-align: right;\">\n",
              "      <th></th>\n",
              "      <th>Id</th>\n",
              "      <th>MSSubClass</th>\n",
              "      <th>MSZoning</th>\n",
              "      <th>LotFrontage</th>\n",
              "      <th>LotArea</th>\n",
              "      <th>Street</th>\n",
              "      <th>Alley</th>\n",
              "      <th>LotShape</th>\n",
              "      <th>LandContour</th>\n",
              "      <th>Utilities</th>\n",
              "      <th>LotConfig</th>\n",
              "      <th>LandSlope</th>\n",
              "      <th>Neighborhood</th>\n",
              "      <th>Condition1</th>\n",
              "      <th>Condition2</th>\n",
              "      <th>BldgType</th>\n",
              "      <th>HouseStyle</th>\n",
              "      <th>OverallQual</th>\n",
              "      <th>OverallCond</th>\n",
              "      <th>YearBuilt</th>\n",
              "      <th>YearRemodAdd</th>\n",
              "      <th>RoofStyle</th>\n",
              "      <th>RoofMatl</th>\n",
              "      <th>Exterior1st</th>\n",
              "      <th>Exterior2nd</th>\n",
              "      <th>MasVnrType</th>\n",
              "      <th>MasVnrArea</th>\n",
              "      <th>ExterQual</th>\n",
              "      <th>ExterCond</th>\n",
              "      <th>Foundation</th>\n",
              "      <th>BsmtQual</th>\n",
              "      <th>BsmtCond</th>\n",
              "      <th>BsmtExposure</th>\n",
              "      <th>BsmtFinType1</th>\n",
              "      <th>BsmtFinSF1</th>\n",
              "      <th>BsmtFinType2</th>\n",
              "      <th>BsmtFinSF2</th>\n",
              "      <th>BsmtUnfSF</th>\n",
              "      <th>TotalBsmtSF</th>\n",
              "      <th>Heating</th>\n",
              "      <th>HeatingQC</th>\n",
              "      <th>CentralAir</th>\n",
              "      <th>Electrical</th>\n",
              "      <th>1stFlrSF</th>\n",
              "      <th>2ndFlrSF</th>\n",
              "      <th>LowQualFinSF</th>\n",
              "      <th>GrLivArea</th>\n",
              "      <th>BsmtFullBath</th>\n",
              "      <th>BsmtHalfBath</th>\n",
              "      <th>FullBath</th>\n",
              "      <th>HalfBath</th>\n",
              "      <th>BedroomAbvGr</th>\n",
              "      <th>KitchenAbvGr</th>\n",
              "      <th>KitchenQual</th>\n",
              "      <th>TotRmsAbvGrd</th>\n",
              "      <th>Functional</th>\n",
              "      <th>Fireplaces</th>\n",
              "      <th>FireplaceQu</th>\n",
              "      <th>GarageType</th>\n",
              "      <th>GarageYrBlt</th>\n",
              "      <th>GarageFinish</th>\n",
              "      <th>GarageCars</th>\n",
              "      <th>GarageArea</th>\n",
              "      <th>GarageQual</th>\n",
              "      <th>GarageCond</th>\n",
              "      <th>PavedDrive</th>\n",
              "      <th>WoodDeckSF</th>\n",
              "      <th>OpenPorchSF</th>\n",
              "      <th>EnclosedPorch</th>\n",
              "      <th>3SsnPorch</th>\n",
              "      <th>ScreenPorch</th>\n",
              "      <th>PoolArea</th>\n",
              "      <th>PoolQC</th>\n",
              "      <th>Fence</th>\n",
              "      <th>MiscFeature</th>\n",
              "      <th>MiscVal</th>\n",
              "      <th>MoSold</th>\n",
              "      <th>YrSold</th>\n",
              "      <th>SaleType</th>\n",
              "      <th>SaleCondition</th>\n",
              "      <th>SalePrice</th>\n",
              "    </tr>\n",
              "  </thead>\n",
              "  <tbody>\n",
              "    <tr>\n",
              "      <th>0</th>\n",
              "      <td>1</td>\n",
              "      <td>60</td>\n",
              "      <td>RL</td>\n",
              "      <td>65.0</td>\n",
              "      <td>8450</td>\n",
              "      <td>Pave</td>\n",
              "      <td>NaN</td>\n",
              "      <td>Reg</td>\n",
              "      <td>Lvl</td>\n",
              "      <td>AllPub</td>\n",
              "      <td>Inside</td>\n",
              "      <td>Gtl</td>\n",
              "      <td>CollgCr</td>\n",
              "      <td>Norm</td>\n",
              "      <td>Norm</td>\n",
              "      <td>1Fam</td>\n",
              "      <td>2Story</td>\n",
              "      <td>7</td>\n",
              "      <td>5</td>\n",
              "      <td>2003</td>\n",
              "      <td>2003</td>\n",
              "      <td>Gable</td>\n",
              "      <td>CompShg</td>\n",
              "      <td>VinylSd</td>\n",
              "      <td>VinylSd</td>\n",
              "      <td>BrkFace</td>\n",
              "      <td>196.0</td>\n",
              "      <td>Gd</td>\n",
              "      <td>TA</td>\n",
              "      <td>PConc</td>\n",
              "      <td>Gd</td>\n",
              "      <td>TA</td>\n",
              "      <td>No</td>\n",
              "      <td>GLQ</td>\n",
              "      <td>706</td>\n",
              "      <td>Unf</td>\n",
              "      <td>0</td>\n",
              "      <td>150</td>\n",
              "      <td>856</td>\n",
              "      <td>GasA</td>\n",
              "      <td>Ex</td>\n",
              "      <td>Y</td>\n",
              "      <td>SBrkr</td>\n",
              "      <td>856</td>\n",
              "      <td>854</td>\n",
              "      <td>0</td>\n",
              "      <td>1710</td>\n",
              "      <td>1</td>\n",
              "      <td>0</td>\n",
              "      <td>2</td>\n",
              "      <td>1</td>\n",
              "      <td>3</td>\n",
              "      <td>1</td>\n",
              "      <td>Gd</td>\n",
              "      <td>8</td>\n",
              "      <td>Typ</td>\n",
              "      <td>0</td>\n",
              "      <td>NaN</td>\n",
              "      <td>Attchd</td>\n",
              "      <td>2003.0</td>\n",
              "      <td>RFn</td>\n",
              "      <td>2</td>\n",
              "      <td>548</td>\n",
              "      <td>TA</td>\n",
              "      <td>TA</td>\n",
              "      <td>Y</td>\n",
              "      <td>0</td>\n",
              "      <td>61</td>\n",
              "      <td>0</td>\n",
              "      <td>0</td>\n",
              "      <td>0</td>\n",
              "      <td>0</td>\n",
              "      <td>NaN</td>\n",
              "      <td>NaN</td>\n",
              "      <td>NaN</td>\n",
              "      <td>0</td>\n",
              "      <td>2</td>\n",
              "      <td>2008</td>\n",
              "      <td>WD</td>\n",
              "      <td>Normal</td>\n",
              "      <td>208500</td>\n",
              "    </tr>\n",
              "    <tr>\n",
              "      <th>1</th>\n",
              "      <td>2</td>\n",
              "      <td>20</td>\n",
              "      <td>RL</td>\n",
              "      <td>80.0</td>\n",
              "      <td>9600</td>\n",
              "      <td>Pave</td>\n",
              "      <td>NaN</td>\n",
              "      <td>Reg</td>\n",
              "      <td>Lvl</td>\n",
              "      <td>AllPub</td>\n",
              "      <td>FR2</td>\n",
              "      <td>Gtl</td>\n",
              "      <td>Veenker</td>\n",
              "      <td>Feedr</td>\n",
              "      <td>Norm</td>\n",
              "      <td>1Fam</td>\n",
              "      <td>1Story</td>\n",
              "      <td>6</td>\n",
              "      <td>8</td>\n",
              "      <td>1976</td>\n",
              "      <td>1976</td>\n",
              "      <td>Gable</td>\n",
              "      <td>CompShg</td>\n",
              "      <td>MetalSd</td>\n",
              "      <td>MetalSd</td>\n",
              "      <td>None</td>\n",
              "      <td>0.0</td>\n",
              "      <td>TA</td>\n",
              "      <td>TA</td>\n",
              "      <td>CBlock</td>\n",
              "      <td>Gd</td>\n",
              "      <td>TA</td>\n",
              "      <td>Gd</td>\n",
              "      <td>ALQ</td>\n",
              "      <td>978</td>\n",
              "      <td>Unf</td>\n",
              "      <td>0</td>\n",
              "      <td>284</td>\n",
              "      <td>1262</td>\n",
              "      <td>GasA</td>\n",
              "      <td>Ex</td>\n",
              "      <td>Y</td>\n",
              "      <td>SBrkr</td>\n",
              "      <td>1262</td>\n",
              "      <td>0</td>\n",
              "      <td>0</td>\n",
              "      <td>1262</td>\n",
              "      <td>0</td>\n",
              "      <td>1</td>\n",
              "      <td>2</td>\n",
              "      <td>0</td>\n",
              "      <td>3</td>\n",
              "      <td>1</td>\n",
              "      <td>TA</td>\n",
              "      <td>6</td>\n",
              "      <td>Typ</td>\n",
              "      <td>1</td>\n",
              "      <td>TA</td>\n",
              "      <td>Attchd</td>\n",
              "      <td>1976.0</td>\n",
              "      <td>RFn</td>\n",
              "      <td>2</td>\n",
              "      <td>460</td>\n",
              "      <td>TA</td>\n",
              "      <td>TA</td>\n",
              "      <td>Y</td>\n",
              "      <td>298</td>\n",
              "      <td>0</td>\n",
              "      <td>0</td>\n",
              "      <td>0</td>\n",
              "      <td>0</td>\n",
              "      <td>0</td>\n",
              "      <td>NaN</td>\n",
              "      <td>NaN</td>\n",
              "      <td>NaN</td>\n",
              "      <td>0</td>\n",
              "      <td>5</td>\n",
              "      <td>2007</td>\n",
              "      <td>WD</td>\n",
              "      <td>Normal</td>\n",
              "      <td>181500</td>\n",
              "    </tr>\n",
              "    <tr>\n",
              "      <th>2</th>\n",
              "      <td>3</td>\n",
              "      <td>60</td>\n",
              "      <td>RL</td>\n",
              "      <td>68.0</td>\n",
              "      <td>11250</td>\n",
              "      <td>Pave</td>\n",
              "      <td>NaN</td>\n",
              "      <td>IR1</td>\n",
              "      <td>Lvl</td>\n",
              "      <td>AllPub</td>\n",
              "      <td>Inside</td>\n",
              "      <td>Gtl</td>\n",
              "      <td>CollgCr</td>\n",
              "      <td>Norm</td>\n",
              "      <td>Norm</td>\n",
              "      <td>1Fam</td>\n",
              "      <td>2Story</td>\n",
              "      <td>7</td>\n",
              "      <td>5</td>\n",
              "      <td>2001</td>\n",
              "      <td>2002</td>\n",
              "      <td>Gable</td>\n",
              "      <td>CompShg</td>\n",
              "      <td>VinylSd</td>\n",
              "      <td>VinylSd</td>\n",
              "      <td>BrkFace</td>\n",
              "      <td>162.0</td>\n",
              "      <td>Gd</td>\n",
              "      <td>TA</td>\n",
              "      <td>PConc</td>\n",
              "      <td>Gd</td>\n",
              "      <td>TA</td>\n",
              "      <td>Mn</td>\n",
              "      <td>GLQ</td>\n",
              "      <td>486</td>\n",
              "      <td>Unf</td>\n",
              "      <td>0</td>\n",
              "      <td>434</td>\n",
              "      <td>920</td>\n",
              "      <td>GasA</td>\n",
              "      <td>Ex</td>\n",
              "      <td>Y</td>\n",
              "      <td>SBrkr</td>\n",
              "      <td>920</td>\n",
              "      <td>866</td>\n",
              "      <td>0</td>\n",
              "      <td>1786</td>\n",
              "      <td>1</td>\n",
              "      <td>0</td>\n",
              "      <td>2</td>\n",
              "      <td>1</td>\n",
              "      <td>3</td>\n",
              "      <td>1</td>\n",
              "      <td>Gd</td>\n",
              "      <td>6</td>\n",
              "      <td>Typ</td>\n",
              "      <td>1</td>\n",
              "      <td>TA</td>\n",
              "      <td>Attchd</td>\n",
              "      <td>2001.0</td>\n",
              "      <td>RFn</td>\n",
              "      <td>2</td>\n",
              "      <td>608</td>\n",
              "      <td>TA</td>\n",
              "      <td>TA</td>\n",
              "      <td>Y</td>\n",
              "      <td>0</td>\n",
              "      <td>42</td>\n",
              "      <td>0</td>\n",
              "      <td>0</td>\n",
              "      <td>0</td>\n",
              "      <td>0</td>\n",
              "      <td>NaN</td>\n",
              "      <td>NaN</td>\n",
              "      <td>NaN</td>\n",
              "      <td>0</td>\n",
              "      <td>9</td>\n",
              "      <td>2008</td>\n",
              "      <td>WD</td>\n",
              "      <td>Normal</td>\n",
              "      <td>223500</td>\n",
              "    </tr>\n",
              "    <tr>\n",
              "      <th>3</th>\n",
              "      <td>4</td>\n",
              "      <td>70</td>\n",
              "      <td>RL</td>\n",
              "      <td>60.0</td>\n",
              "      <td>9550</td>\n",
              "      <td>Pave</td>\n",
              "      <td>NaN</td>\n",
              "      <td>IR1</td>\n",
              "      <td>Lvl</td>\n",
              "      <td>AllPub</td>\n",
              "      <td>Corner</td>\n",
              "      <td>Gtl</td>\n",
              "      <td>Crawfor</td>\n",
              "      <td>Norm</td>\n",
              "      <td>Norm</td>\n",
              "      <td>1Fam</td>\n",
              "      <td>2Story</td>\n",
              "      <td>7</td>\n",
              "      <td>5</td>\n",
              "      <td>1915</td>\n",
              "      <td>1970</td>\n",
              "      <td>Gable</td>\n",
              "      <td>CompShg</td>\n",
              "      <td>Wd Sdng</td>\n",
              "      <td>Wd Shng</td>\n",
              "      <td>None</td>\n",
              "      <td>0.0</td>\n",
              "      <td>TA</td>\n",
              "      <td>TA</td>\n",
              "      <td>BrkTil</td>\n",
              "      <td>TA</td>\n",
              "      <td>Gd</td>\n",
              "      <td>No</td>\n",
              "      <td>ALQ</td>\n",
              "      <td>216</td>\n",
              "      <td>Unf</td>\n",
              "      <td>0</td>\n",
              "      <td>540</td>\n",
              "      <td>756</td>\n",
              "      <td>GasA</td>\n",
              "      <td>Gd</td>\n",
              "      <td>Y</td>\n",
              "      <td>SBrkr</td>\n",
              "      <td>961</td>\n",
              "      <td>756</td>\n",
              "      <td>0</td>\n",
              "      <td>1717</td>\n",
              "      <td>1</td>\n",
              "      <td>0</td>\n",
              "      <td>1</td>\n",
              "      <td>0</td>\n",
              "      <td>3</td>\n",
              "      <td>1</td>\n",
              "      <td>Gd</td>\n",
              "      <td>7</td>\n",
              "      <td>Typ</td>\n",
              "      <td>1</td>\n",
              "      <td>Gd</td>\n",
              "      <td>Detchd</td>\n",
              "      <td>1998.0</td>\n",
              "      <td>Unf</td>\n",
              "      <td>3</td>\n",
              "      <td>642</td>\n",
              "      <td>TA</td>\n",
              "      <td>TA</td>\n",
              "      <td>Y</td>\n",
              "      <td>0</td>\n",
              "      <td>35</td>\n",
              "      <td>272</td>\n",
              "      <td>0</td>\n",
              "      <td>0</td>\n",
              "      <td>0</td>\n",
              "      <td>NaN</td>\n",
              "      <td>NaN</td>\n",
              "      <td>NaN</td>\n",
              "      <td>0</td>\n",
              "      <td>2</td>\n",
              "      <td>2006</td>\n",
              "      <td>WD</td>\n",
              "      <td>Abnorml</td>\n",
              "      <td>140000</td>\n",
              "    </tr>\n",
              "    <tr>\n",
              "      <th>4</th>\n",
              "      <td>5</td>\n",
              "      <td>60</td>\n",
              "      <td>RL</td>\n",
              "      <td>84.0</td>\n",
              "      <td>14260</td>\n",
              "      <td>Pave</td>\n",
              "      <td>NaN</td>\n",
              "      <td>IR1</td>\n",
              "      <td>Lvl</td>\n",
              "      <td>AllPub</td>\n",
              "      <td>FR2</td>\n",
              "      <td>Gtl</td>\n",
              "      <td>NoRidge</td>\n",
              "      <td>Norm</td>\n",
              "      <td>Norm</td>\n",
              "      <td>1Fam</td>\n",
              "      <td>2Story</td>\n",
              "      <td>8</td>\n",
              "      <td>5</td>\n",
              "      <td>2000</td>\n",
              "      <td>2000</td>\n",
              "      <td>Gable</td>\n",
              "      <td>CompShg</td>\n",
              "      <td>VinylSd</td>\n",
              "      <td>VinylSd</td>\n",
              "      <td>BrkFace</td>\n",
              "      <td>350.0</td>\n",
              "      <td>Gd</td>\n",
              "      <td>TA</td>\n",
              "      <td>PConc</td>\n",
              "      <td>Gd</td>\n",
              "      <td>TA</td>\n",
              "      <td>Av</td>\n",
              "      <td>GLQ</td>\n",
              "      <td>655</td>\n",
              "      <td>Unf</td>\n",
              "      <td>0</td>\n",
              "      <td>490</td>\n",
              "      <td>1145</td>\n",
              "      <td>GasA</td>\n",
              "      <td>Ex</td>\n",
              "      <td>Y</td>\n",
              "      <td>SBrkr</td>\n",
              "      <td>1145</td>\n",
              "      <td>1053</td>\n",
              "      <td>0</td>\n",
              "      <td>2198</td>\n",
              "      <td>1</td>\n",
              "      <td>0</td>\n",
              "      <td>2</td>\n",
              "      <td>1</td>\n",
              "      <td>4</td>\n",
              "      <td>1</td>\n",
              "      <td>Gd</td>\n",
              "      <td>9</td>\n",
              "      <td>Typ</td>\n",
              "      <td>1</td>\n",
              "      <td>TA</td>\n",
              "      <td>Attchd</td>\n",
              "      <td>2000.0</td>\n",
              "      <td>RFn</td>\n",
              "      <td>3</td>\n",
              "      <td>836</td>\n",
              "      <td>TA</td>\n",
              "      <td>TA</td>\n",
              "      <td>Y</td>\n",
              "      <td>192</td>\n",
              "      <td>84</td>\n",
              "      <td>0</td>\n",
              "      <td>0</td>\n",
              "      <td>0</td>\n",
              "      <td>0</td>\n",
              "      <td>NaN</td>\n",
              "      <td>NaN</td>\n",
              "      <td>NaN</td>\n",
              "      <td>0</td>\n",
              "      <td>12</td>\n",
              "      <td>2008</td>\n",
              "      <td>WD</td>\n",
              "      <td>Normal</td>\n",
              "      <td>250000</td>\n",
              "    </tr>\n",
              "    <tr>\n",
              "      <th>...</th>\n",
              "      <td>...</td>\n",
              "      <td>...</td>\n",
              "      <td>...</td>\n",
              "      <td>...</td>\n",
              "      <td>...</td>\n",
              "      <td>...</td>\n",
              "      <td>...</td>\n",
              "      <td>...</td>\n",
              "      <td>...</td>\n",
              "      <td>...</td>\n",
              "      <td>...</td>\n",
              "      <td>...</td>\n",
              "      <td>...</td>\n",
              "      <td>...</td>\n",
              "      <td>...</td>\n",
              "      <td>...</td>\n",
              "      <td>...</td>\n",
              "      <td>...</td>\n",
              "      <td>...</td>\n",
              "      <td>...</td>\n",
              "      <td>...</td>\n",
              "      <td>...</td>\n",
              "      <td>...</td>\n",
              "      <td>...</td>\n",
              "      <td>...</td>\n",
              "      <td>...</td>\n",
              "      <td>...</td>\n",
              "      <td>...</td>\n",
              "      <td>...</td>\n",
              "      <td>...</td>\n",
              "      <td>...</td>\n",
              "      <td>...</td>\n",
              "      <td>...</td>\n",
              "      <td>...</td>\n",
              "      <td>...</td>\n",
              "      <td>...</td>\n",
              "      <td>...</td>\n",
              "      <td>...</td>\n",
              "      <td>...</td>\n",
              "      <td>...</td>\n",
              "      <td>...</td>\n",
              "      <td>...</td>\n",
              "      <td>...</td>\n",
              "      <td>...</td>\n",
              "      <td>...</td>\n",
              "      <td>...</td>\n",
              "      <td>...</td>\n",
              "      <td>...</td>\n",
              "      <td>...</td>\n",
              "      <td>...</td>\n",
              "      <td>...</td>\n",
              "      <td>...</td>\n",
              "      <td>...</td>\n",
              "      <td>...</td>\n",
              "      <td>...</td>\n",
              "      <td>...</td>\n",
              "      <td>...</td>\n",
              "      <td>...</td>\n",
              "      <td>...</td>\n",
              "      <td>...</td>\n",
              "      <td>...</td>\n",
              "      <td>...</td>\n",
              "      <td>...</td>\n",
              "      <td>...</td>\n",
              "      <td>...</td>\n",
              "      <td>...</td>\n",
              "      <td>...</td>\n",
              "      <td>...</td>\n",
              "      <td>...</td>\n",
              "      <td>...</td>\n",
              "      <td>...</td>\n",
              "      <td>...</td>\n",
              "      <td>...</td>\n",
              "      <td>...</td>\n",
              "      <td>...</td>\n",
              "      <td>...</td>\n",
              "      <td>...</td>\n",
              "      <td>...</td>\n",
              "      <td>...</td>\n",
              "      <td>...</td>\n",
              "      <td>...</td>\n",
              "    </tr>\n",
              "    <tr>\n",
              "      <th>1455</th>\n",
              "      <td>1456</td>\n",
              "      <td>60</td>\n",
              "      <td>RL</td>\n",
              "      <td>62.0</td>\n",
              "      <td>7917</td>\n",
              "      <td>Pave</td>\n",
              "      <td>NaN</td>\n",
              "      <td>Reg</td>\n",
              "      <td>Lvl</td>\n",
              "      <td>AllPub</td>\n",
              "      <td>Inside</td>\n",
              "      <td>Gtl</td>\n",
              "      <td>Gilbert</td>\n",
              "      <td>Norm</td>\n",
              "      <td>Norm</td>\n",
              "      <td>1Fam</td>\n",
              "      <td>2Story</td>\n",
              "      <td>6</td>\n",
              "      <td>5</td>\n",
              "      <td>1999</td>\n",
              "      <td>2000</td>\n",
              "      <td>Gable</td>\n",
              "      <td>CompShg</td>\n",
              "      <td>VinylSd</td>\n",
              "      <td>VinylSd</td>\n",
              "      <td>None</td>\n",
              "      <td>0.0</td>\n",
              "      <td>TA</td>\n",
              "      <td>TA</td>\n",
              "      <td>PConc</td>\n",
              "      <td>Gd</td>\n",
              "      <td>TA</td>\n",
              "      <td>No</td>\n",
              "      <td>Unf</td>\n",
              "      <td>0</td>\n",
              "      <td>Unf</td>\n",
              "      <td>0</td>\n",
              "      <td>953</td>\n",
              "      <td>953</td>\n",
              "      <td>GasA</td>\n",
              "      <td>Ex</td>\n",
              "      <td>Y</td>\n",
              "      <td>SBrkr</td>\n",
              "      <td>953</td>\n",
              "      <td>694</td>\n",
              "      <td>0</td>\n",
              "      <td>1647</td>\n",
              "      <td>0</td>\n",
              "      <td>0</td>\n",
              "      <td>2</td>\n",
              "      <td>1</td>\n",
              "      <td>3</td>\n",
              "      <td>1</td>\n",
              "      <td>TA</td>\n",
              "      <td>7</td>\n",
              "      <td>Typ</td>\n",
              "      <td>1</td>\n",
              "      <td>TA</td>\n",
              "      <td>Attchd</td>\n",
              "      <td>1999.0</td>\n",
              "      <td>RFn</td>\n",
              "      <td>2</td>\n",
              "      <td>460</td>\n",
              "      <td>TA</td>\n",
              "      <td>TA</td>\n",
              "      <td>Y</td>\n",
              "      <td>0</td>\n",
              "      <td>40</td>\n",
              "      <td>0</td>\n",
              "      <td>0</td>\n",
              "      <td>0</td>\n",
              "      <td>0</td>\n",
              "      <td>NaN</td>\n",
              "      <td>NaN</td>\n",
              "      <td>NaN</td>\n",
              "      <td>0</td>\n",
              "      <td>8</td>\n",
              "      <td>2007</td>\n",
              "      <td>WD</td>\n",
              "      <td>Normal</td>\n",
              "      <td>175000</td>\n",
              "    </tr>\n",
              "    <tr>\n",
              "      <th>1456</th>\n",
              "      <td>1457</td>\n",
              "      <td>20</td>\n",
              "      <td>RL</td>\n",
              "      <td>85.0</td>\n",
              "      <td>13175</td>\n",
              "      <td>Pave</td>\n",
              "      <td>NaN</td>\n",
              "      <td>Reg</td>\n",
              "      <td>Lvl</td>\n",
              "      <td>AllPub</td>\n",
              "      <td>Inside</td>\n",
              "      <td>Gtl</td>\n",
              "      <td>NWAmes</td>\n",
              "      <td>Norm</td>\n",
              "      <td>Norm</td>\n",
              "      <td>1Fam</td>\n",
              "      <td>1Story</td>\n",
              "      <td>6</td>\n",
              "      <td>6</td>\n",
              "      <td>1978</td>\n",
              "      <td>1988</td>\n",
              "      <td>Gable</td>\n",
              "      <td>CompShg</td>\n",
              "      <td>Plywood</td>\n",
              "      <td>Plywood</td>\n",
              "      <td>Stone</td>\n",
              "      <td>119.0</td>\n",
              "      <td>TA</td>\n",
              "      <td>TA</td>\n",
              "      <td>CBlock</td>\n",
              "      <td>Gd</td>\n",
              "      <td>TA</td>\n",
              "      <td>No</td>\n",
              "      <td>ALQ</td>\n",
              "      <td>790</td>\n",
              "      <td>Rec</td>\n",
              "      <td>163</td>\n",
              "      <td>589</td>\n",
              "      <td>1542</td>\n",
              "      <td>GasA</td>\n",
              "      <td>TA</td>\n",
              "      <td>Y</td>\n",
              "      <td>SBrkr</td>\n",
              "      <td>2073</td>\n",
              "      <td>0</td>\n",
              "      <td>0</td>\n",
              "      <td>2073</td>\n",
              "      <td>1</td>\n",
              "      <td>0</td>\n",
              "      <td>2</td>\n",
              "      <td>0</td>\n",
              "      <td>3</td>\n",
              "      <td>1</td>\n",
              "      <td>TA</td>\n",
              "      <td>7</td>\n",
              "      <td>Min1</td>\n",
              "      <td>2</td>\n",
              "      <td>TA</td>\n",
              "      <td>Attchd</td>\n",
              "      <td>1978.0</td>\n",
              "      <td>Unf</td>\n",
              "      <td>2</td>\n",
              "      <td>500</td>\n",
              "      <td>TA</td>\n",
              "      <td>TA</td>\n",
              "      <td>Y</td>\n",
              "      <td>349</td>\n",
              "      <td>0</td>\n",
              "      <td>0</td>\n",
              "      <td>0</td>\n",
              "      <td>0</td>\n",
              "      <td>0</td>\n",
              "      <td>NaN</td>\n",
              "      <td>MnPrv</td>\n",
              "      <td>NaN</td>\n",
              "      <td>0</td>\n",
              "      <td>2</td>\n",
              "      <td>2010</td>\n",
              "      <td>WD</td>\n",
              "      <td>Normal</td>\n",
              "      <td>210000</td>\n",
              "    </tr>\n",
              "    <tr>\n",
              "      <th>1457</th>\n",
              "      <td>1458</td>\n",
              "      <td>70</td>\n",
              "      <td>RL</td>\n",
              "      <td>66.0</td>\n",
              "      <td>9042</td>\n",
              "      <td>Pave</td>\n",
              "      <td>NaN</td>\n",
              "      <td>Reg</td>\n",
              "      <td>Lvl</td>\n",
              "      <td>AllPub</td>\n",
              "      <td>Inside</td>\n",
              "      <td>Gtl</td>\n",
              "      <td>Crawfor</td>\n",
              "      <td>Norm</td>\n",
              "      <td>Norm</td>\n",
              "      <td>1Fam</td>\n",
              "      <td>2Story</td>\n",
              "      <td>7</td>\n",
              "      <td>9</td>\n",
              "      <td>1941</td>\n",
              "      <td>2006</td>\n",
              "      <td>Gable</td>\n",
              "      <td>CompShg</td>\n",
              "      <td>CemntBd</td>\n",
              "      <td>CmentBd</td>\n",
              "      <td>None</td>\n",
              "      <td>0.0</td>\n",
              "      <td>Ex</td>\n",
              "      <td>Gd</td>\n",
              "      <td>Stone</td>\n",
              "      <td>TA</td>\n",
              "      <td>Gd</td>\n",
              "      <td>No</td>\n",
              "      <td>GLQ</td>\n",
              "      <td>275</td>\n",
              "      <td>Unf</td>\n",
              "      <td>0</td>\n",
              "      <td>877</td>\n",
              "      <td>1152</td>\n",
              "      <td>GasA</td>\n",
              "      <td>Ex</td>\n",
              "      <td>Y</td>\n",
              "      <td>SBrkr</td>\n",
              "      <td>1188</td>\n",
              "      <td>1152</td>\n",
              "      <td>0</td>\n",
              "      <td>2340</td>\n",
              "      <td>0</td>\n",
              "      <td>0</td>\n",
              "      <td>2</td>\n",
              "      <td>0</td>\n",
              "      <td>4</td>\n",
              "      <td>1</td>\n",
              "      <td>Gd</td>\n",
              "      <td>9</td>\n",
              "      <td>Typ</td>\n",
              "      <td>2</td>\n",
              "      <td>Gd</td>\n",
              "      <td>Attchd</td>\n",
              "      <td>1941.0</td>\n",
              "      <td>RFn</td>\n",
              "      <td>1</td>\n",
              "      <td>252</td>\n",
              "      <td>TA</td>\n",
              "      <td>TA</td>\n",
              "      <td>Y</td>\n",
              "      <td>0</td>\n",
              "      <td>60</td>\n",
              "      <td>0</td>\n",
              "      <td>0</td>\n",
              "      <td>0</td>\n",
              "      <td>0</td>\n",
              "      <td>NaN</td>\n",
              "      <td>GdPrv</td>\n",
              "      <td>Shed</td>\n",
              "      <td>2500</td>\n",
              "      <td>5</td>\n",
              "      <td>2010</td>\n",
              "      <td>WD</td>\n",
              "      <td>Normal</td>\n",
              "      <td>266500</td>\n",
              "    </tr>\n",
              "    <tr>\n",
              "      <th>1458</th>\n",
              "      <td>1459</td>\n",
              "      <td>20</td>\n",
              "      <td>RL</td>\n",
              "      <td>68.0</td>\n",
              "      <td>9717</td>\n",
              "      <td>Pave</td>\n",
              "      <td>NaN</td>\n",
              "      <td>Reg</td>\n",
              "      <td>Lvl</td>\n",
              "      <td>AllPub</td>\n",
              "      <td>Inside</td>\n",
              "      <td>Gtl</td>\n",
              "      <td>NAmes</td>\n",
              "      <td>Norm</td>\n",
              "      <td>Norm</td>\n",
              "      <td>1Fam</td>\n",
              "      <td>1Story</td>\n",
              "      <td>5</td>\n",
              "      <td>6</td>\n",
              "      <td>1950</td>\n",
              "      <td>1996</td>\n",
              "      <td>Hip</td>\n",
              "      <td>CompShg</td>\n",
              "      <td>MetalSd</td>\n",
              "      <td>MetalSd</td>\n",
              "      <td>None</td>\n",
              "      <td>0.0</td>\n",
              "      <td>TA</td>\n",
              "      <td>TA</td>\n",
              "      <td>CBlock</td>\n",
              "      <td>TA</td>\n",
              "      <td>TA</td>\n",
              "      <td>Mn</td>\n",
              "      <td>GLQ</td>\n",
              "      <td>49</td>\n",
              "      <td>Rec</td>\n",
              "      <td>1029</td>\n",
              "      <td>0</td>\n",
              "      <td>1078</td>\n",
              "      <td>GasA</td>\n",
              "      <td>Gd</td>\n",
              "      <td>Y</td>\n",
              "      <td>FuseA</td>\n",
              "      <td>1078</td>\n",
              "      <td>0</td>\n",
              "      <td>0</td>\n",
              "      <td>1078</td>\n",
              "      <td>1</td>\n",
              "      <td>0</td>\n",
              "      <td>1</td>\n",
              "      <td>0</td>\n",
              "      <td>2</td>\n",
              "      <td>1</td>\n",
              "      <td>Gd</td>\n",
              "      <td>5</td>\n",
              "      <td>Typ</td>\n",
              "      <td>0</td>\n",
              "      <td>NaN</td>\n",
              "      <td>Attchd</td>\n",
              "      <td>1950.0</td>\n",
              "      <td>Unf</td>\n",
              "      <td>1</td>\n",
              "      <td>240</td>\n",
              "      <td>TA</td>\n",
              "      <td>TA</td>\n",
              "      <td>Y</td>\n",
              "      <td>366</td>\n",
              "      <td>0</td>\n",
              "      <td>112</td>\n",
              "      <td>0</td>\n",
              "      <td>0</td>\n",
              "      <td>0</td>\n",
              "      <td>NaN</td>\n",
              "      <td>NaN</td>\n",
              "      <td>NaN</td>\n",
              "      <td>0</td>\n",
              "      <td>4</td>\n",
              "      <td>2010</td>\n",
              "      <td>WD</td>\n",
              "      <td>Normal</td>\n",
              "      <td>142125</td>\n",
              "    </tr>\n",
              "    <tr>\n",
              "      <th>1459</th>\n",
              "      <td>1460</td>\n",
              "      <td>20</td>\n",
              "      <td>RL</td>\n",
              "      <td>75.0</td>\n",
              "      <td>9937</td>\n",
              "      <td>Pave</td>\n",
              "      <td>NaN</td>\n",
              "      <td>Reg</td>\n",
              "      <td>Lvl</td>\n",
              "      <td>AllPub</td>\n",
              "      <td>Inside</td>\n",
              "      <td>Gtl</td>\n",
              "      <td>Edwards</td>\n",
              "      <td>Norm</td>\n",
              "      <td>Norm</td>\n",
              "      <td>1Fam</td>\n",
              "      <td>1Story</td>\n",
              "      <td>5</td>\n",
              "      <td>6</td>\n",
              "      <td>1965</td>\n",
              "      <td>1965</td>\n",
              "      <td>Gable</td>\n",
              "      <td>CompShg</td>\n",
              "      <td>HdBoard</td>\n",
              "      <td>HdBoard</td>\n",
              "      <td>None</td>\n",
              "      <td>0.0</td>\n",
              "      <td>Gd</td>\n",
              "      <td>TA</td>\n",
              "      <td>CBlock</td>\n",
              "      <td>TA</td>\n",
              "      <td>TA</td>\n",
              "      <td>No</td>\n",
              "      <td>BLQ</td>\n",
              "      <td>830</td>\n",
              "      <td>LwQ</td>\n",
              "      <td>290</td>\n",
              "      <td>136</td>\n",
              "      <td>1256</td>\n",
              "      <td>GasA</td>\n",
              "      <td>Gd</td>\n",
              "      <td>Y</td>\n",
              "      <td>SBrkr</td>\n",
              "      <td>1256</td>\n",
              "      <td>0</td>\n",
              "      <td>0</td>\n",
              "      <td>1256</td>\n",
              "      <td>1</td>\n",
              "      <td>0</td>\n",
              "      <td>1</td>\n",
              "      <td>1</td>\n",
              "      <td>3</td>\n",
              "      <td>1</td>\n",
              "      <td>TA</td>\n",
              "      <td>6</td>\n",
              "      <td>Typ</td>\n",
              "      <td>0</td>\n",
              "      <td>NaN</td>\n",
              "      <td>Attchd</td>\n",
              "      <td>1965.0</td>\n",
              "      <td>Fin</td>\n",
              "      <td>1</td>\n",
              "      <td>276</td>\n",
              "      <td>TA</td>\n",
              "      <td>TA</td>\n",
              "      <td>Y</td>\n",
              "      <td>736</td>\n",
              "      <td>68</td>\n",
              "      <td>0</td>\n",
              "      <td>0</td>\n",
              "      <td>0</td>\n",
              "      <td>0</td>\n",
              "      <td>NaN</td>\n",
              "      <td>NaN</td>\n",
              "      <td>NaN</td>\n",
              "      <td>0</td>\n",
              "      <td>6</td>\n",
              "      <td>2008</td>\n",
              "      <td>WD</td>\n",
              "      <td>Normal</td>\n",
              "      <td>147500</td>\n",
              "    </tr>\n",
              "  </tbody>\n",
              "</table>\n",
              "<p>1460 rows × 81 columns</p>\n",
              "</div>"
            ],
            "text/plain": [
              "        Id  MSSubClass MSZoning  LotFrontage  LotArea Street Alley LotShape  \\\n",
              "0        1          60       RL         65.0     8450   Pave   NaN      Reg   \n",
              "1        2          20       RL         80.0     9600   Pave   NaN      Reg   \n",
              "2        3          60       RL         68.0    11250   Pave   NaN      IR1   \n",
              "3        4          70       RL         60.0     9550   Pave   NaN      IR1   \n",
              "4        5          60       RL         84.0    14260   Pave   NaN      IR1   \n",
              "...    ...         ...      ...          ...      ...    ...   ...      ...   \n",
              "1455  1456          60       RL         62.0     7917   Pave   NaN      Reg   \n",
              "1456  1457          20       RL         85.0    13175   Pave   NaN      Reg   \n",
              "1457  1458          70       RL         66.0     9042   Pave   NaN      Reg   \n",
              "1458  1459          20       RL         68.0     9717   Pave   NaN      Reg   \n",
              "1459  1460          20       RL         75.0     9937   Pave   NaN      Reg   \n",
              "\n",
              "     LandContour Utilities LotConfig LandSlope Neighborhood Condition1  \\\n",
              "0            Lvl    AllPub    Inside       Gtl      CollgCr       Norm   \n",
              "1            Lvl    AllPub       FR2       Gtl      Veenker      Feedr   \n",
              "2            Lvl    AllPub    Inside       Gtl      CollgCr       Norm   \n",
              "3            Lvl    AllPub    Corner       Gtl      Crawfor       Norm   \n",
              "4            Lvl    AllPub       FR2       Gtl      NoRidge       Norm   \n",
              "...          ...       ...       ...       ...          ...        ...   \n",
              "1455         Lvl    AllPub    Inside       Gtl      Gilbert       Norm   \n",
              "1456         Lvl    AllPub    Inside       Gtl       NWAmes       Norm   \n",
              "1457         Lvl    AllPub    Inside       Gtl      Crawfor       Norm   \n",
              "1458         Lvl    AllPub    Inside       Gtl        NAmes       Norm   \n",
              "1459         Lvl    AllPub    Inside       Gtl      Edwards       Norm   \n",
              "\n",
              "     Condition2 BldgType HouseStyle  OverallQual  OverallCond  YearBuilt  \\\n",
              "0          Norm     1Fam     2Story            7            5       2003   \n",
              "1          Norm     1Fam     1Story            6            8       1976   \n",
              "2          Norm     1Fam     2Story            7            5       2001   \n",
              "3          Norm     1Fam     2Story            7            5       1915   \n",
              "4          Norm     1Fam     2Story            8            5       2000   \n",
              "...         ...      ...        ...          ...          ...        ...   \n",
              "1455       Norm     1Fam     2Story            6            5       1999   \n",
              "1456       Norm     1Fam     1Story            6            6       1978   \n",
              "1457       Norm     1Fam     2Story            7            9       1941   \n",
              "1458       Norm     1Fam     1Story            5            6       1950   \n",
              "1459       Norm     1Fam     1Story            5            6       1965   \n",
              "\n",
              "      YearRemodAdd RoofStyle RoofMatl Exterior1st Exterior2nd MasVnrType  \\\n",
              "0             2003     Gable  CompShg     VinylSd     VinylSd    BrkFace   \n",
              "1             1976     Gable  CompShg     MetalSd     MetalSd       None   \n",
              "2             2002     Gable  CompShg     VinylSd     VinylSd    BrkFace   \n",
              "3             1970     Gable  CompShg     Wd Sdng     Wd Shng       None   \n",
              "4             2000     Gable  CompShg     VinylSd     VinylSd    BrkFace   \n",
              "...            ...       ...      ...         ...         ...        ...   \n",
              "1455          2000     Gable  CompShg     VinylSd     VinylSd       None   \n",
              "1456          1988     Gable  CompShg     Plywood     Plywood      Stone   \n",
              "1457          2006     Gable  CompShg     CemntBd     CmentBd       None   \n",
              "1458          1996       Hip  CompShg     MetalSd     MetalSd       None   \n",
              "1459          1965     Gable  CompShg     HdBoard     HdBoard       None   \n",
              "\n",
              "      MasVnrArea ExterQual ExterCond Foundation BsmtQual BsmtCond  \\\n",
              "0          196.0        Gd        TA      PConc       Gd       TA   \n",
              "1            0.0        TA        TA     CBlock       Gd       TA   \n",
              "2          162.0        Gd        TA      PConc       Gd       TA   \n",
              "3            0.0        TA        TA     BrkTil       TA       Gd   \n",
              "4          350.0        Gd        TA      PConc       Gd       TA   \n",
              "...          ...       ...       ...        ...      ...      ...   \n",
              "1455         0.0        TA        TA      PConc       Gd       TA   \n",
              "1456       119.0        TA        TA     CBlock       Gd       TA   \n",
              "1457         0.0        Ex        Gd      Stone       TA       Gd   \n",
              "1458         0.0        TA        TA     CBlock       TA       TA   \n",
              "1459         0.0        Gd        TA     CBlock       TA       TA   \n",
              "\n",
              "     BsmtExposure BsmtFinType1  BsmtFinSF1 BsmtFinType2  BsmtFinSF2  \\\n",
              "0              No          GLQ         706          Unf           0   \n",
              "1              Gd          ALQ         978          Unf           0   \n",
              "2              Mn          GLQ         486          Unf           0   \n",
              "3              No          ALQ         216          Unf           0   \n",
              "4              Av          GLQ         655          Unf           0   \n",
              "...           ...          ...         ...          ...         ...   \n",
              "1455           No          Unf           0          Unf           0   \n",
              "1456           No          ALQ         790          Rec         163   \n",
              "1457           No          GLQ         275          Unf           0   \n",
              "1458           Mn          GLQ          49          Rec        1029   \n",
              "1459           No          BLQ         830          LwQ         290   \n",
              "\n",
              "      BsmtUnfSF  TotalBsmtSF Heating HeatingQC CentralAir Electrical  \\\n",
              "0           150          856    GasA        Ex          Y      SBrkr   \n",
              "1           284         1262    GasA        Ex          Y      SBrkr   \n",
              "2           434          920    GasA        Ex          Y      SBrkr   \n",
              "3           540          756    GasA        Gd          Y      SBrkr   \n",
              "4           490         1145    GasA        Ex          Y      SBrkr   \n",
              "...         ...          ...     ...       ...        ...        ...   \n",
              "1455        953          953    GasA        Ex          Y      SBrkr   \n",
              "1456        589         1542    GasA        TA          Y      SBrkr   \n",
              "1457        877         1152    GasA        Ex          Y      SBrkr   \n",
              "1458          0         1078    GasA        Gd          Y      FuseA   \n",
              "1459        136         1256    GasA        Gd          Y      SBrkr   \n",
              "\n",
              "      1stFlrSF  2ndFlrSF  LowQualFinSF  GrLivArea  BsmtFullBath  BsmtHalfBath  \\\n",
              "0          856       854             0       1710             1             0   \n",
              "1         1262         0             0       1262             0             1   \n",
              "2          920       866             0       1786             1             0   \n",
              "3          961       756             0       1717             1             0   \n",
              "4         1145      1053             0       2198             1             0   \n",
              "...        ...       ...           ...        ...           ...           ...   \n",
              "1455       953       694             0       1647             0             0   \n",
              "1456      2073         0             0       2073             1             0   \n",
              "1457      1188      1152             0       2340             0             0   \n",
              "1458      1078         0             0       1078             1             0   \n",
              "1459      1256         0             0       1256             1             0   \n",
              "\n",
              "      FullBath  HalfBath  BedroomAbvGr  KitchenAbvGr KitchenQual  \\\n",
              "0            2         1             3             1          Gd   \n",
              "1            2         0             3             1          TA   \n",
              "2            2         1             3             1          Gd   \n",
              "3            1         0             3             1          Gd   \n",
              "4            2         1             4             1          Gd   \n",
              "...        ...       ...           ...           ...         ...   \n",
              "1455         2         1             3             1          TA   \n",
              "1456         2         0             3             1          TA   \n",
              "1457         2         0             4             1          Gd   \n",
              "1458         1         0             2             1          Gd   \n",
              "1459         1         1             3             1          TA   \n",
              "\n",
              "      TotRmsAbvGrd Functional  Fireplaces FireplaceQu GarageType  GarageYrBlt  \\\n",
              "0                8        Typ           0         NaN     Attchd       2003.0   \n",
              "1                6        Typ           1          TA     Attchd       1976.0   \n",
              "2                6        Typ           1          TA     Attchd       2001.0   \n",
              "3                7        Typ           1          Gd     Detchd       1998.0   \n",
              "4                9        Typ           1          TA     Attchd       2000.0   \n",
              "...            ...        ...         ...         ...        ...          ...   \n",
              "1455             7        Typ           1          TA     Attchd       1999.0   \n",
              "1456             7       Min1           2          TA     Attchd       1978.0   \n",
              "1457             9        Typ           2          Gd     Attchd       1941.0   \n",
              "1458             5        Typ           0         NaN     Attchd       1950.0   \n",
              "1459             6        Typ           0         NaN     Attchd       1965.0   \n",
              "\n",
              "     GarageFinish  GarageCars  GarageArea GarageQual GarageCond PavedDrive  \\\n",
              "0             RFn           2         548         TA         TA          Y   \n",
              "1             RFn           2         460         TA         TA          Y   \n",
              "2             RFn           2         608         TA         TA          Y   \n",
              "3             Unf           3         642         TA         TA          Y   \n",
              "4             RFn           3         836         TA         TA          Y   \n",
              "...           ...         ...         ...        ...        ...        ...   \n",
              "1455          RFn           2         460         TA         TA          Y   \n",
              "1456          Unf           2         500         TA         TA          Y   \n",
              "1457          RFn           1         252         TA         TA          Y   \n",
              "1458          Unf           1         240         TA         TA          Y   \n",
              "1459          Fin           1         276         TA         TA          Y   \n",
              "\n",
              "      WoodDeckSF  OpenPorchSF  EnclosedPorch  3SsnPorch  ScreenPorch  \\\n",
              "0              0           61              0          0            0   \n",
              "1            298            0              0          0            0   \n",
              "2              0           42              0          0            0   \n",
              "3              0           35            272          0            0   \n",
              "4            192           84              0          0            0   \n",
              "...          ...          ...            ...        ...          ...   \n",
              "1455           0           40              0          0            0   \n",
              "1456         349            0              0          0            0   \n",
              "1457           0           60              0          0            0   \n",
              "1458         366            0            112          0            0   \n",
              "1459         736           68              0          0            0   \n",
              "\n",
              "      PoolArea PoolQC  Fence MiscFeature  MiscVal  MoSold  YrSold SaleType  \\\n",
              "0            0    NaN    NaN         NaN        0       2    2008       WD   \n",
              "1            0    NaN    NaN         NaN        0       5    2007       WD   \n",
              "2            0    NaN    NaN         NaN        0       9    2008       WD   \n",
              "3            0    NaN    NaN         NaN        0       2    2006       WD   \n",
              "4            0    NaN    NaN         NaN        0      12    2008       WD   \n",
              "...        ...    ...    ...         ...      ...     ...     ...      ...   \n",
              "1455         0    NaN    NaN         NaN        0       8    2007       WD   \n",
              "1456         0    NaN  MnPrv         NaN        0       2    2010       WD   \n",
              "1457         0    NaN  GdPrv        Shed     2500       5    2010       WD   \n",
              "1458         0    NaN    NaN         NaN        0       4    2010       WD   \n",
              "1459         0    NaN    NaN         NaN        0       6    2008       WD   \n",
              "\n",
              "     SaleCondition  SalePrice  \n",
              "0           Normal     208500  \n",
              "1           Normal     181500  \n",
              "2           Normal     223500  \n",
              "3          Abnorml     140000  \n",
              "4           Normal     250000  \n",
              "...            ...        ...  \n",
              "1455        Normal     175000  \n",
              "1456        Normal     210000  \n",
              "1457        Normal     266500  \n",
              "1458        Normal     142125  \n",
              "1459        Normal     147500  \n",
              "\n",
              "[1460 rows x 81 columns]"
            ]
          },
          "metadata": {
            "tags": []
          },
          "execution_count": 197
        }
      ]
    },
    {
      "cell_type": "code",
      "metadata": {
        "id": "large-jacob"
      },
      "source": [
        "import numpy as np\n",
        "from sklearn.impute import SimpleImputer\n",
        "from sklearn.preprocessing import MinMaxScaler, OneHotEncoder\n",
        "from sklearn.model_selection import train_test_split\n",
        "\n",
        "# Identify input and target columns\n",
        "input_cols, target_col = prices_df.columns[1:-1], prices_df.columns[-1]\n",
        "inputs_df, targets = prices_df[input_cols].copy(), prices_df[target_col].copy()\n",
        "\n",
        "# Identify numeric and categorical columns\n",
        "numeric_cols = prices_df[input_cols].select_dtypes(include=np.number).columns.tolist()\n",
        "categorical_cols = prices_df[input_cols].select_dtypes(include='object').columns.tolist()\n",
        "\n",
        "# Impute and scale numeric columns\n",
        "imputer = SimpleImputer().fit(inputs_df[numeric_cols])\n",
        "inputs_df[numeric_cols] = imputer.transform(inputs_df[numeric_cols])\n",
        "scaler = MinMaxScaler().fit(inputs_df[numeric_cols])\n",
        "inputs_df[numeric_cols] = scaler.transform(inputs_df[numeric_cols])\n",
        "\n",
        "# One-hot encode categorical columns\n",
        "encoder = OneHotEncoder(sparse=False, handle_unknown='ignore').fit(inputs_df[categorical_cols])\n",
        "encoded_cols = list(encoder.get_feature_names(categorical_cols))\n",
        "inputs_df[encoded_cols] = encoder.transform(inputs_df[categorical_cols])\n",
        "\n",
        "# Create training and validation sets\n",
        "train_inputs, val_inputs, train_targets, val_targets = train_test_split(\n",
        "    inputs_df[numeric_cols + encoded_cols], targets, test_size=0.25, random_state=42)"
      ],
      "id": "large-jacob",
      "execution_count": null,
      "outputs": []
    },
    {
      "cell_type": "code",
      "metadata": {
        "colab": {
          "base_uri": "https://localhost:8080/"
        },
        "id": "waphvXKVp2uE",
        "outputId": "448497df-bc9c-4d88-9d24-2bb474f53666"
      },
      "source": [
        "inputs_df[categorical_cols].isnull().sum().sort_values(ascending=False)"
      ],
      "id": "waphvXKVp2uE",
      "execution_count": null,
      "outputs": [
        {
          "output_type": "execute_result",
          "data": {
            "text/plain": [
              "PoolQC           1453\n",
              "MiscFeature      1406\n",
              "Alley            1369\n",
              "Fence            1179\n",
              "FireplaceQu       690\n",
              "GarageCond         81\n",
              "GarageQual         81\n",
              "GarageFinish       81\n",
              "GarageType         81\n",
              "BsmtFinType2       38\n",
              "BsmtExposure       38\n",
              "BsmtFinType1       37\n",
              "BsmtQual           37\n",
              "BsmtCond           37\n",
              "MasVnrType          8\n",
              "Electrical          1\n",
              "Condition2          0\n",
              "Condition1          0\n",
              "Neighborhood        0\n",
              "LandSlope           0\n",
              "BldgType            0\n",
              "LandContour         0\n",
              "LotConfig           0\n",
              "Utilities           0\n",
              "RoofStyle           0\n",
              "LotShape            0\n",
              "Street              0\n",
              "HouseStyle          0\n",
              "SaleCondition       0\n",
              "RoofMatl            0\n",
              "Exterior1st         0\n",
              "Exterior2nd         0\n",
              "ExterQual           0\n",
              "ExterCond           0\n",
              "Foundation          0\n",
              "SaleType            0\n",
              "Heating             0\n",
              "HeatingQC           0\n",
              "CentralAir          0\n",
              "KitchenQual         0\n",
              "Functional          0\n",
              "PavedDrive          0\n",
              "MSZoning            0\n",
              "dtype: int64"
            ]
          },
          "metadata": {
            "tags": []
          },
          "execution_count": 285
        }
      ]
    },
    {
      "cell_type": "code",
      "metadata": {
        "colab": {
          "base_uri": "https://localhost:8080/"
        },
        "id": "HN39l-n6jEFr",
        "outputId": "7745bf6a-962e-4efd-8daf-c38b2d7af3a5"
      },
      "source": [
        "inputs_df[numeric_cols].isnull().sum()"
      ],
      "id": "HN39l-n6jEFr",
      "execution_count": null,
      "outputs": [
        {
          "output_type": "execute_result",
          "data": {
            "text/plain": [
              "MSSubClass       0\n",
              "BedroomAbvGr     0\n",
              "KitchenAbvGr     0\n",
              "TotRmsAbvGrd     0\n",
              "Fireplaces       0\n",
              "GarageYrBlt      0\n",
              "GarageCars       0\n",
              "HalfBath         0\n",
              "GarageArea       0\n",
              "OpenPorchSF      0\n",
              "EnclosedPorch    0\n",
              "3SsnPorch        0\n",
              "ScreenPorch      0\n",
              "PoolArea         0\n",
              "MiscVal          0\n",
              "WoodDeckSF       0\n",
              "FullBath         0\n",
              "BsmtHalfBath     0\n",
              "BsmtFullBath     0\n",
              "LotFrontage      0\n",
              "LotArea          0\n",
              "OverallQual      0\n",
              "OverallCond      0\n",
              "YearBuilt        0\n",
              "YearRemodAdd     0\n",
              "MasVnrArea       0\n",
              "BsmtFinSF1       0\n",
              "BsmtFinSF2       0\n",
              "BsmtUnfSF        0\n",
              "TotalBsmtSF      0\n",
              "1stFlrSF         0\n",
              "2ndFlrSF         0\n",
              "LowQualFinSF     0\n",
              "GrLivArea        0\n",
              "MoSold           0\n",
              "YrSold           0\n",
              "dtype: int64"
            ]
          },
          "metadata": {
            "tags": []
          },
          "execution_count": 281
        }
      ]
    },
    {
      "cell_type": "markdown",
      "metadata": {
        "id": "located-community"
      },
      "source": [
        "Let's save our work before continuing."
      ],
      "id": "located-community"
    },
    {
      "cell_type": "markdown",
      "metadata": {
        "id": "unnecessary-pressing"
      },
      "source": [
        "## Decision Tree\n"
      ],
      "id": "unnecessary-pressing"
    },
    {
      "cell_type": "markdown",
      "metadata": {
        "id": "express-morning"
      },
      "source": [
        "> **QUESTION 1**: Train a decision tree regressor using the training set."
      ],
      "id": "express-morning"
    },
    {
      "cell_type": "code",
      "metadata": {
        "id": "limited-aaron"
      },
      "source": [
        "from sklearn.tree import DecisionTreeRegressor"
      ],
      "id": "limited-aaron",
      "execution_count": null,
      "outputs": []
    },
    {
      "cell_type": "code",
      "metadata": {
        "id": "champion-possibility"
      },
      "source": [
        "# Create the model\n",
        "tree = DecisionTreeRegressor(random_state=42)"
      ],
      "id": "champion-possibility",
      "execution_count": null,
      "outputs": []
    },
    {
      "cell_type": "code",
      "metadata": {
        "colab": {
          "base_uri": "https://localhost:8080/"
        },
        "id": "opposite-laptop",
        "outputId": "ff566d4e-524e-4e5a-800d-51719c787e00"
      },
      "source": [
        "# Fit the model to the training data\n",
        "tree.fit(train_inputs,train_targets)"
      ],
      "id": "opposite-laptop",
      "execution_count": null,
      "outputs": [
        {
          "output_type": "execute_result",
          "data": {
            "text/plain": [
              "DecisionTreeRegressor(random_state=42)"
            ]
          },
          "metadata": {
            "tags": []
          },
          "execution_count": 202
        }
      ]
    },
    {
      "cell_type": "markdown",
      "metadata": {
        "id": "geological-fusion"
      },
      "source": [
        "Let's save our work before continuing."
      ],
      "id": "geological-fusion"
    },
    {
      "cell_type": "markdown",
      "metadata": {
        "id": "contrary-policy"
      },
      "source": [
        "> **QUESTION 2**: Generate predictions on the training and validation sets using the trained decision tree, and compute the RMSE loss."
      ],
      "id": "contrary-policy"
    },
    {
      "cell_type": "code",
      "metadata": {
        "id": "helpful-blake"
      },
      "source": [
        "from sklearn.metrics import mean_squared_error"
      ],
      "id": "helpful-blake",
      "execution_count": null,
      "outputs": []
    },
    {
      "cell_type": "code",
      "metadata": {
        "id": "alien-november"
      },
      "source": [
        "tree_train_preds = tree.predict(train_inputs)"
      ],
      "id": "alien-november",
      "execution_count": null,
      "outputs": []
    },
    {
      "cell_type": "code",
      "metadata": {
        "id": "received-producer"
      },
      "source": [
        "tree_train_rmse = np.sqrt(mean_squared_error(train_targets,tree_train_preds))"
      ],
      "id": "received-producer",
      "execution_count": null,
      "outputs": []
    },
    {
      "cell_type": "code",
      "metadata": {
        "id": "clinical-cameroon"
      },
      "source": [
        "tree_val_preds = tree.predict(val_inputs)"
      ],
      "id": "clinical-cameroon",
      "execution_count": null,
      "outputs": []
    },
    {
      "cell_type": "code",
      "metadata": {
        "id": "sapphire-indie"
      },
      "source": [
        "tree_val_rmse = np.sqrt(mean_squared_error(val_targets,tree_val_preds))"
      ],
      "id": "sapphire-indie",
      "execution_count": null,
      "outputs": []
    },
    {
      "cell_type": "code",
      "metadata": {
        "colab": {
          "base_uri": "https://localhost:8080/"
        },
        "id": "moving-program",
        "outputId": "fa849f28-ec8b-4d13-8d0f-e52999c1bfb8"
      },
      "source": [
        "print('Train RMSE: {}, Validation RMSE: {}'.format(tree_train_rmse, tree_val_rmse))"
      ],
      "id": "moving-program",
      "execution_count": null,
      "outputs": [
        {
          "output_type": "stream",
          "text": [
            "Train RMSE: 0.0, Validation RMSE: 37802.872039112044\n"
          ],
          "name": "stdout"
        }
      ]
    },
    {
      "cell_type": "markdown",
      "metadata": {
        "id": "handled-dictionary"
      },
      "source": [
        "Let's save our work before continuing."
      ],
      "id": "handled-dictionary"
    },
    {
      "cell_type": "markdown",
      "metadata": {
        "id": "russian-wheat"
      },
      "source": [
        "> **QUESTION 3**: Visualize the decision tree (graphically and textually) and display feature importances as a graph. Limit the maximum depth of graphical visualization to 3 levels."
      ],
      "id": "russian-wheat"
    },
    {
      "cell_type": "code",
      "metadata": {
        "id": "moved-hobby"
      },
      "source": [
        "import matplotlib.pyplot as plt\n",
        "from sklearn.tree import plot_tree, export_text\n",
        "import seaborn as sns\n",
        "sns.set_style('darkgrid')\n",
        "%matplotlib inline"
      ],
      "id": "moved-hobby",
      "execution_count": null,
      "outputs": []
    },
    {
      "cell_type": "code",
      "metadata": {
        "colab": {
          "base_uri": "https://localhost:8080/",
          "height": 846
        },
        "id": "foreign-mills",
        "outputId": "f36dfd15-4855-4af9-e6f2-661677d032b8"
      },
      "source": [
        "plt.figure(figsize=(30,15))\n",
        "\n",
        "# Visualize the tree graphically using plot_tree\n",
        "plot_tree(tree,feature_names=train_inputs.columns,max_depth=2,filled=True);"
      ],
      "id": "foreign-mills",
      "execution_count": null,
      "outputs": [
        {
          "output_type": "display_data",
          "data": {
            "image/png": "[encoded data removed]",
            "text/plain": [
              "<Figure size 2160x1080 with 1 Axes>"
            ]
          },
          "metadata": {
            "tags": [],
            "needs_background": "light"
          }
        }
      ]
    },
    {
      "cell_type": "code",
      "metadata": {
        "id": "asian-immunology"
      },
      "source": [
        "# Visualize the tree textually using export_text\n",
        "tree_text = export_text(tree, max_depth=10, feature_names=list(train_inputs.columns))"
      ],
      "id": "asian-immunology",
      "execution_count": null,
      "outputs": []
    },
    {
      "cell_type": "code",
      "metadata": {
        "colab": {
          "base_uri": "https://localhost:8080/"
        },
        "id": "baking-knife",
        "outputId": "615efb12-1bc7-4e3d-e77a-de139d974417"
      },
      "source": [
        "# Display the first few lines\n",
        "print(tree_text[:2000])"
      ],
      "id": "baking-knife",
      "execution_count": null,
      "outputs": [
        {
          "output_type": "stream",
          "text": [
            "|--- OverallQual <= 0.72\n",
            "|   |--- OverallQual <= 0.61\n",
            "|   |   |--- GrLivArea <= 0.20\n",
            "|   |   |   |--- TotalBsmtSF <= 0.16\n",
            "|   |   |   |   |--- OverallQual <= 0.39\n",
            "|   |   |   |   |   |--- GarageCond_TA <= 0.50\n",
            "|   |   |   |   |   |   |--- LotArea <= 0.04\n",
            "|   |   |   |   |   |   |   |--- CentralAir_Y <= 0.50\n",
            "|   |   |   |   |   |   |   |   |--- YearBuilt <= 0.54\n",
            "|   |   |   |   |   |   |   |   |   |--- SaleCondition_Abnorml <= 0.50\n",
            "|   |   |   |   |   |   |   |   |   |   |--- Neighborhood_BrkSide <= 0.50\n",
            "|   |   |   |   |   |   |   |   |   |   |   |--- truncated branch of depth 3\n",
            "|   |   |   |   |   |   |   |   |   |   |--- Neighborhood_BrkSide >  0.50\n",
            "|   |   |   |   |   |   |   |   |   |   |   |--- value: [39300.00]\n",
            "|   |   |   |   |   |   |   |   |   |--- SaleCondition_Abnorml >  0.50\n",
            "|   |   |   |   |   |   |   |   |   |   |--- 2ndFlrSF <= 0.09\n",
            "|   |   |   |   |   |   |   |   |   |   |   |--- value: [34900.00]\n",
            "|   |   |   |   |   |   |   |   |   |   |--- 2ndFlrSF >  0.09\n",
            "|   |   |   |   |   |   |   |   |   |   |   |--- value: [37900.00]\n",
            "|   |   |   |   |   |   |   |   |--- YearBuilt >  0.54\n",
            "|   |   |   |   |   |   |   |   |   |--- Condition1_Norm <= 0.50\n",
            "|   |   |   |   |   |   |   |   |   |   |--- value: [72500.00]\n",
            "|   |   |   |   |   |   |   |   |   |--- Condition1_Norm >  0.50\n",
            "|   |   |   |   |   |   |   |   |   |   |--- YrSold <= 0.25\n",
            "|   |   |   |   |   |   |   |   |   |   |   |--- value: [80500.00]\n",
            "|   |   |   |   |   |   |   |   |   |   |--- YrSold >  0.25\n",
            "|   |   |   |   |   |   |   |   |   |   |   |--- value: [82000.00]\n",
            "|   |   |   |   |   |   |   |--- CentralAir_Y >  0.50\n",
            "|   |   |   |   |   |   |   |   |--- Functional_Maj2 <= 0.50\n",
            "|   |   |   |   |   |   |   |   |   |--- Fireplaces <= 0.17\n",
            "|   |   |   |   |   |   |   |   |   |   |--- LotArea <= 0.03\n",
            "|   |   |   |   |   |   |   |   |   |   |   |--- truncated branch of depth 4\n",
            "|   |   |   |   |   |   |   |   |   |   |--- LotArea >  0.03\n",
            "|   |   |   |   |   |   |   |   |   |   |   |--- truncated branch of\n"
          ],
          "name": "stdout"
        }
      ]
    },
    {
      "cell_type": "code",
      "metadata": {
        "id": "typical-birth"
      },
      "source": [
        "# Check feature importance\n",
        "tree_importances = tree.feature_importances_"
      ],
      "id": "typical-birth",
      "execution_count": null,
      "outputs": []
    },
    {
      "cell_type": "code",
      "metadata": {
        "id": "entertaining-reply"
      },
      "source": [
        "tree_importance_df = pd.DataFrame({\n",
        "    'feature': train_inputs.columns,\n",
        "    'importance': tree_importances\n",
        "}).sort_values('importance', ascending=False)"
      ],
      "id": "entertaining-reply",
      "execution_count": null,
      "outputs": []
    },
    {
      "cell_type": "code",
      "metadata": {
        "colab": {
          "base_uri": "https://localhost:8080/",
          "height": 419
        },
        "id": "limiting-ridge",
        "outputId": "dd9587b9-0c17-4da6-d1bc-33533fdab8f5"
      },
      "source": [
        "tree_importance_df"
      ],
      "id": "limiting-ridge",
      "execution_count": null,
      "outputs": [
        {
          "output_type": "execute_result",
          "data": {
            "text/html": [
              "<div>\n",
              "<style scoped>\n",
              "    .dataframe tbody tr th:only-of-type {\n",
              "        vertical-align: middle;\n",
              "    }\n",
              "\n",
              "    .dataframe tbody tr th {\n",
              "        vertical-align: top;\n",
              "    }\n",
              "\n",
              "    .dataframe thead th {\n",
              "        text-align: right;\n",
              "    }\n",
              "</style>\n",
              "<table border=\"1\" class=\"dataframe\">\n",
              "  <thead>\n",
              "    <tr style=\"text-align: right;\">\n",
              "      <th></th>\n",
              "      <th>feature</th>\n",
              "      <th>importance</th>\n",
              "    </tr>\n",
              "  </thead>\n",
              "  <tbody>\n",
              "    <tr>\n",
              "      <th>3</th>\n",
              "      <td>OverallQual</td>\n",
              "      <td>0.632537</td>\n",
              "    </tr>\n",
              "    <tr>\n",
              "      <th>15</th>\n",
              "      <td>GrLivArea</td>\n",
              "      <td>0.104334</td>\n",
              "    </tr>\n",
              "    <tr>\n",
              "      <th>13</th>\n",
              "      <td>2ndFlrSF</td>\n",
              "      <td>0.031896</td>\n",
              "    </tr>\n",
              "    <tr>\n",
              "      <th>11</th>\n",
              "      <td>TotalBsmtSF</td>\n",
              "      <td>0.028504</td>\n",
              "    </tr>\n",
              "    <tr>\n",
              "      <th>12</th>\n",
              "      <td>1stFlrSF</td>\n",
              "      <td>0.026730</td>\n",
              "    </tr>\n",
              "    <tr>\n",
              "      <th>...</th>\n",
              "      <td>...</td>\n",
              "      <td>...</td>\n",
              "    </tr>\n",
              "    <tr>\n",
              "      <th>104</th>\n",
              "      <td>Condition2_RRAn</td>\n",
              "      <td>0.000000</td>\n",
              "    </tr>\n",
              "    <tr>\n",
              "      <th>103</th>\n",
              "      <td>Condition2_RRAe</td>\n",
              "      <td>0.000000</td>\n",
              "    </tr>\n",
              "    <tr>\n",
              "      <th>102</th>\n",
              "      <td>Condition2_PosN</td>\n",
              "      <td>0.000000</td>\n",
              "    </tr>\n",
              "    <tr>\n",
              "      <th>212</th>\n",
              "      <td>BsmtFinType2_nan</td>\n",
              "      <td>0.000000</td>\n",
              "    </tr>\n",
              "    <tr>\n",
              "      <th>152</th>\n",
              "      <td>Exterior2nd_CBlock</td>\n",
              "      <td>0.000000</td>\n",
              "    </tr>\n",
              "  </tbody>\n",
              "</table>\n",
              "<p>304 rows × 2 columns</p>\n",
              "</div>"
            ],
            "text/plain": [
              "                feature  importance\n",
              "3           OverallQual    0.632537\n",
              "15            GrLivArea    0.104334\n",
              "13             2ndFlrSF    0.031896\n",
              "11          TotalBsmtSF    0.028504\n",
              "12             1stFlrSF    0.026730\n",
              "..                  ...         ...\n",
              "104     Condition2_RRAn    0.000000\n",
              "103     Condition2_RRAe    0.000000\n",
              "102     Condition2_PosN    0.000000\n",
              "212    BsmtFinType2_nan    0.000000\n",
              "152  Exterior2nd_CBlock    0.000000\n",
              "\n",
              "[304 rows x 2 columns]"
            ]
          },
          "metadata": {
            "tags": []
          },
          "execution_count": 217
        }
      ]
    },
    {
      "cell_type": "code",
      "metadata": {
        "colab": {
          "base_uri": "https://localhost:8080/",
          "height": 295
        },
        "id": "amended-spain",
        "outputId": "230b1431-96a7-48c5-ab61-a4d8fb6ed84d"
      },
      "source": [
        "plt.title('Decision Tree Feature Importance')\n",
        "sns.barplot(data=tree_importance_df.head(10), x='importance', y='feature');"
      ],
      "id": "amended-spain",
      "execution_count": null,
      "outputs": [
        {
          "output_type": "display_data",
          "data": {
            "image/png": "[encoded data removed]",
            "text/plain": [
              "<Figure size 432x288 with 1 Axes>"
            ]
          },
          "metadata": {
            "tags": [],
            "needs_background": "light"
          }
        }
      ]
    },
    {
      "cell_type": "code",
      "metadata": {
        "id": "personal-alert"
      },
      "source": [
        ""
      ],
      "id": "personal-alert",
      "execution_count": null,
      "outputs": []
    },
    {
      "cell_type": "markdown",
      "metadata": {
        "id": "monthly-crazy"
      },
      "source": [
        "Let's save our work before continuing."
      ],
      "id": "monthly-crazy"
    },
    {
      "cell_type": "code",
      "metadata": {
        "colab": {
          "base_uri": "https://localhost:8080/",
          "height": 86
        },
        "id": "statistical-material",
        "outputId": "606c934f-76b2-4d54-daf3-b0932e418d79"
      },
      "source": [
        "jovian.commit()"
      ],
      "id": "statistical-material",
      "execution_count": null,
      "outputs": [
        {
          "output_type": "stream",
          "text": [
            "[jovian] Detected Colab notebook...\u001b[0m\n",
            "[jovian] Uploading colab notebook to Jovian...\u001b[0m\n",
            "Committed successfully! https://jovian.ai/heyrobin/python-random-forests-assignment\n"
          ],
          "name": "stdout"
        },
        {
          "output_type": "execute_result",
          "data": {
            "application/vnd.google.colaboratory.intrinsic+json": {
              "type": "string"
            },
            "text/plain": [
              "'https://jovian.ai/heyrobin/python-random-forests-assignment'"
            ]
          },
          "metadata": {
            "tags": []
          },
          "execution_count": 219
        }
      ]
    },
    {
      "cell_type": "markdown",
      "metadata": {
        "id": "grand-option"
      },
      "source": [
        "## Random Forests\n"
      ],
      "id": "grand-option"
    },
    {
      "cell_type": "markdown",
      "metadata": {
        "id": "imperial-porcelain"
      },
      "source": [
        "> **QUESTION 4**: Train a random forest regressor using the training set."
      ],
      "id": "imperial-porcelain"
    },
    {
      "cell_type": "code",
      "metadata": {
        "id": "given-header"
      },
      "source": [
        "from sklearn.ensemble import RandomForestRegressor"
      ],
      "id": "given-header",
      "execution_count": null,
      "outputs": []
    },
    {
      "cell_type": "code",
      "metadata": {
        "id": "virtual-mortgage"
      },
      "source": [
        "# Create the model\n",
        "rf1 = RandomForestRegressor(random_state= 42, n_jobs=-1)"
      ],
      "id": "virtual-mortgage",
      "execution_count": null,
      "outputs": []
    },
    {
      "cell_type": "code",
      "metadata": {
        "colab": {
          "base_uri": "https://localhost:8080/"
        },
        "id": "parental-mistress",
        "outputId": "e5099acd-494c-4c9b-d278-881e2f7e365b"
      },
      "source": [
        "# Fit the model\n",
        "rf1.fit(train_inputs,train_targets)"
      ],
      "id": "parental-mistress",
      "execution_count": null,
      "outputs": [
        {
          "output_type": "execute_result",
          "data": {
            "text/plain": [
              "RandomForestRegressor(n_jobs=-1, random_state=42)"
            ]
          },
          "metadata": {
            "tags": []
          },
          "execution_count": 222
        }
      ]
    },
    {
      "cell_type": "markdown",
      "metadata": {
        "id": "instant-ranking"
      },
      "source": [
        "Let's save our work before continuing."
      ],
      "id": "instant-ranking"
    },
    {
      "cell_type": "markdown",
      "metadata": {
        "id": "proved-batman"
      },
      "source": [
        "> **QUESTION 5**: Make predictions using the random forest regressor."
      ],
      "id": "proved-batman"
    },
    {
      "cell_type": "code",
      "metadata": {
        "id": "removable-driving"
      },
      "source": [
        "rf1_train_preds = rf1.predict(train_inputs)"
      ],
      "id": "removable-driving",
      "execution_count": null,
      "outputs": []
    },
    {
      "cell_type": "code",
      "metadata": {
        "id": "mature-ceremony"
      },
      "source": [
        "rf1_train_rmse = np.sqrt(mean_squared_error(train_targets,rf1_train_preds))"
      ],
      "id": "mature-ceremony",
      "execution_count": null,
      "outputs": []
    },
    {
      "cell_type": "code",
      "metadata": {
        "id": "unable-racing"
      },
      "source": [
        "rf1_val_preds = rf1.predict(val_inputs)"
      ],
      "id": "unable-racing",
      "execution_count": null,
      "outputs": []
    },
    {
      "cell_type": "code",
      "metadata": {
        "id": "narrow-chaos"
      },
      "source": [
        "rf1_val_rmse = np.sqrt(mean_squared_error(val_targets,rf1_val_preds))"
      ],
      "id": "narrow-chaos",
      "execution_count": null,
      "outputs": []
    },
    {
      "cell_type": "code",
      "metadata": {
        "colab": {
          "base_uri": "https://localhost:8080/"
        },
        "id": "norman-brooks",
        "outputId": "d1543989-4cc9-4a1d-8736-460b2465fa02"
      },
      "source": [
        "print('Train RMSE: {}, Validation RMSE: {}'.format(rf1_train_rmse, rf1_val_rmse))"
      ],
      "id": "norman-brooks",
      "execution_count": null,
      "outputs": [
        {
          "output_type": "stream",
          "text": [
            "Train RMSE: 11864.318299877767, Validation RMSE: 27830.03863639856\n"
          ],
          "name": "stdout"
        }
      ]
    },
    {
      "cell_type": "markdown",
      "metadata": {
        "id": "further-camera"
      },
      "source": [
        "Let's save our work before continuing."
      ],
      "id": "further-camera"
    },
    {
      "cell_type": "markdown",
      "metadata": {
        "id": "confident-soundtrack"
      },
      "source": [
        "## Hyperparameter Tuning\n",
        "\n",
        "Let us now tune the hyperparameters of our model. You can find the hyperparameters for `RandomForestRegressor` here: https://scikit-learn.org/stable/modules/generated/sklearn.ensemble.RandomForestRegressor.html\n",
        "\n",
        "<img src=\"https://i.imgur.com/EJCrSZw.png\" width=\"480\">\n",
        "\n",
        "Hyperparameters are use"
      ],
      "id": "confident-soundtrack"
    },
    {
      "cell_type": "markdown",
      "metadata": {
        "id": "narrative-makeup"
      },
      "source": [
        "Let's define a helper function `test_params` which can test the given value of one or more hyperparameters."
      ],
      "id": "narrative-makeup"
    },
    {
      "cell_type": "code",
      "metadata": {
        "id": "administrative-palestine"
      },
      "source": [
        "def test_params(**params):\n",
        "    model = RandomForestRegressor(random_state=42, n_jobs=-1, **params).fit(train_inputs, train_targets)\n",
        "    train_rmse = mean_squared_error(model.predict(train_inputs), train_targets, squared=False)\n",
        "    val_rmse = mean_squared_error(model.predict(val_inputs), val_targets, squared=False)\n",
        "    return train_rmse, val_rmse"
      ],
      "id": "administrative-palestine",
      "execution_count": null,
      "outputs": []
    },
    {
      "cell_type": "markdown",
      "metadata": {
        "id": "legal-commander"
      },
      "source": [
        "It can be used as follows:"
      ],
      "id": "legal-commander"
    },
    {
      "cell_type": "code",
      "metadata": {
        "colab": {
          "base_uri": "https://localhost:8080/"
        },
        "id": "banned-society",
        "outputId": "787b17e0-7c3a-4fa2-8d3b-09b241625a05"
      },
      "source": [
        "test_params(n_estimators=20, max_depth=20)"
      ],
      "id": "banned-society",
      "execution_count": null,
      "outputs": [
        {
          "output_type": "execute_result",
          "data": {
            "text/plain": [
              "(13776.89957127333, 28886.033523273858)"
            ]
          },
          "metadata": {
            "tags": []
          },
          "execution_count": 231
        }
      ]
    },
    {
      "cell_type": "code",
      "metadata": {
        "colab": {
          "base_uri": "https://localhost:8080/"
        },
        "id": "outstanding-bradford",
        "outputId": "bae6ff74-af20-46f8-fdfc-0afcd44b9373"
      },
      "source": [
        "test_params(n_estimators=50, max_depth=10, min_samples_leaf=4, max_features=0.4)"
      ],
      "id": "outstanding-bradford",
      "execution_count": null,
      "outputs": [
        {
          "output_type": "execute_result",
          "data": {
            "text/plain": [
              "(20490.359632429263, 29804.931642791602)"
            ]
          },
          "metadata": {
            "tags": []
          },
          "execution_count": 232
        }
      ]
    },
    {
      "cell_type": "markdown",
      "metadata": {
        "id": "civilian-diary"
      },
      "source": [
        "Let's also define a helper function to test and plot different values of a single parameter."
      ],
      "id": "civilian-diary"
    },
    {
      "cell_type": "code",
      "metadata": {
        "id": "australian-removal"
      },
      "source": [
        "def test_param_and_plot(param_name, param_values):\n",
        "    train_errors, val_errors = [], [] \n",
        "    for value in param_values:\n",
        "        params = {param_name: value}\n",
        "        train_rmse, val_rmse = test_params(**params)\n",
        "        train_errors.append(train_rmse)\n",
        "        val_errors.append(val_rmse)\n",
        "\n",
        "\n",
        "    plt.figure(figsize=(20,12))\n",
        "    plt.title('Overfitting curve: ' + param_name)\n",
        "    plt.plot(param_values, train_errors, 'b-o')\n",
        "    plt.plot(param_values, val_errors, 'r-o')\n",
        "    plt.xlabel(param_name)\n",
        "    plt.ylabel('RMSE')\n",
        "    plt.legend(['Training', 'Validation'])"
      ],
      "id": "australian-removal",
      "execution_count": null,
      "outputs": []
    },
    {
      "cell_type": "code",
      "metadata": {
        "colab": {
          "base_uri": "https://localhost:8080/",
          "height": 731
        },
        "id": "strategic-webmaster",
        "outputId": "2518c906-eb5a-4855-e061-f49127cf1b59"
      },
      "source": [
        "test_param_and_plot('max_depth', [5, 10, 15, 20, 25, 30, 35])"
      ],
      "id": "strategic-webmaster",
      "execution_count": null,
      "outputs": [
        {
          "output_type": "display_data",
          "data": {
            "image/png": "[encoded data removed]",
            "text/plain": [
              "<Figure size 1440x864 with 1 Axes>"
            ]
          },
          "metadata": {
            "tags": [],
            "needs_background": "light"
          }
        }
      ]
    },
    {
      "cell_type": "markdown",
      "metadata": {
        "id": "reasonable-version"
      },
      "source": [
        "From the above graph, it appears that the best value for `max_depth` is around 20, beyond which the model starts to overfit."
      ],
      "id": "reasonable-version"
    },
    {
      "cell_type": "code",
      "metadata": {
        "id": "individual-discretion",
        "colab": {
          "base_uri": "https://localhost:8080/"
        },
        "outputId": "e97b1c7a-7399-48f0-af90-921ec6e5a3c5"
      },
      "source": [
        "test_params(max_depth=20)"
      ],
      "id": "individual-discretion",
      "execution_count": null,
      "outputs": [
        {
          "output_type": "execute_result",
          "data": {
            "text/plain": [
              "(11991.862726083225, 27731.20665420003)"
            ]
          },
          "metadata": {
            "tags": []
          },
          "execution_count": 235
        }
      ]
    },
    {
      "cell_type": "markdown",
      "metadata": {
        "id": "specific-stadium"
      },
      "source": [
        "Let's save our work before continuing."
      ],
      "id": "specific-stadium"
    },
    {
      "cell_type": "markdown",
      "metadata": {
        "id": "bottom-configuration"
      },
      "source": [
        "> **QUESTION 6**: Use the `test_params` and `test_param_and_plot` functions to experiment with different values of the  hyperparmeters like `n_estimators`, `max_depth`, `min_samples_split`, `min_samples_leaf`, `min_weight_fraction_leaf`, `max_features`, `max_leaf_nodes`, `min_impurity_decrease`, `min_impurity_split` etc. You can learn more about the hyperparameters here: https://scikit-learn.org/stable/modules/generated/sklearn.ensemble.RandomForestRegressor.html"
      ],
      "id": "bottom-configuration"
    },
    {
      "cell_type": "code",
      "metadata": {
        "id": "extraordinary-timer",
        "colab": {
          "base_uri": "https://localhost:8080/"
        },
        "outputId": "53376cb7-6605-4d52-e037-f267031a22a4"
      },
      "source": [
        "test_params(n_estimators=20, max_depth=20)"
      ],
      "id": "extraordinary-timer",
      "execution_count": null,
      "outputs": [
        {
          "output_type": "execute_result",
          "data": {
            "text/plain": [
              "(13776.89957127333, 28886.033523273858)"
            ]
          },
          "metadata": {
            "tags": []
          },
          "execution_count": 237
        }
      ]
    },
    {
      "cell_type": "code",
      "metadata": {
        "id": "legislative-collins",
        "colab": {
          "base_uri": "https://localhost:8080/"
        },
        "outputId": "168ac716-54a6-4a83-bfa2-92d67f73842e"
      },
      "source": [
        "test_params(\n",
        "            \n",
        "            n_estimators=616,\n",
        "            max_depth=18,\n",
        "            )"
      ],
      "id": "legislative-collins",
      "execution_count": null,
      "outputs": [
        {
          "output_type": "execute_result",
          "data": {
            "text/plain": [
              "(11321.637156874935, 26923.35142855961)"
            ]
          },
          "metadata": {
            "tags": []
          },
          "execution_count": 238
        }
      ]
    },
    {
      "cell_type": "code",
      "metadata": {
        "colab": {
          "base_uri": "https://localhost:8080/"
        },
        "id": "0eglslQm-2TA",
        "outputId": "8ae2ab05-e9da-4bd2-f0be-64f62264e0f9"
      },
      "source": [
        "test_params(\n",
        "            \n",
        "            n_estimators=616,\n",
        "            max_depth=18,min_samples_split=2, min_samples_leaf=2,max_features=302 \n",
        "            )"
      ],
      "id": "0eglslQm-2TA",
      "execution_count": null,
      "outputs": [
        {
          "output_type": "execute_result",
          "data": {
            "text/plain": [
              "(13743.994028729843, 27046.04470019422)"
            ]
          },
          "metadata": {
            "tags": []
          },
          "execution_count": 239
        }
      ]
    },
    {
      "cell_type": "markdown",
      "metadata": {
        "id": "heard-creator"
      },
      "source": [
        "Let's save our work before continuing."
      ],
      "id": "heard-creator"
    },
    {
      "cell_type": "code",
      "metadata": {
        "id": "SM0pnKUY-1l1"
      },
      "source": [
        ""
      ],
      "id": "SM0pnKUY-1l1",
      "execution_count": null,
      "outputs": []
    },
    {
      "cell_type": "markdown",
      "metadata": {
        "id": "swiss-charger"
      },
      "source": [
        "## Training the Best Model\n",
        "\n",
        "> **QUESTION 7**: Train a random forest regressor model with your best hyperparameters to minimize the validation loss."
      ],
      "id": "swiss-charger"
    },
    {
      "cell_type": "code",
      "metadata": {
        "id": "visible-seven"
      },
      "source": [
        "# Create the model with custom hyperparameters\n",
        "rf2 = RandomForestRegressor(random_state=42, n_jobs=-1,n_estimators=616,max_depth=18).fit(train_inputs,train_targets)"
      ],
      "id": "visible-seven",
      "execution_count": null,
      "outputs": []
    },
    {
      "cell_type": "code",
      "metadata": {
        "id": "sonic-nickname"
      },
      "source": [
        "# Train the model\n",
        "rf2_prediction = rf2.predict(train_inputs)\n"
      ],
      "id": "sonic-nickname",
      "execution_count": null,
      "outputs": []
    },
    {
      "cell_type": "code",
      "metadata": {
        "id": "bVyLxhPrKri-"
      },
      "source": [
        "rf2_score = np.sqrt(mean_squared_error(train_targets,rf2_prediction))"
      ],
      "id": "bVyLxhPrKri-",
      "execution_count": null,
      "outputs": []
    },
    {
      "cell_type": "code",
      "metadata": {
        "id": "collectible-briefs"
      },
      "source": [
        "# Train the model\n",
        "rf2_prediction = rf2.predict(val_inputs)\n"
      ],
      "id": "collectible-briefs",
      "execution_count": null,
      "outputs": []
    },
    {
      "cell_type": "code",
      "metadata": {
        "id": "myMxDQsXKr-v"
      },
      "source": [
        "rf2_val_score = np.sqrt(mean_squared_error(val_targets,rf2_prediction))\n"
      ],
      "id": "myMxDQsXKr-v",
      "execution_count": null,
      "outputs": []
    },
    {
      "cell_type": "code",
      "metadata": {
        "colab": {
          "base_uri": "https://localhost:8080/"
        },
        "id": "NAB3WmjhBwi-",
        "outputId": "12c64064-59ad-4d37-c9ab-b81076006ef2"
      },
      "source": [
        "print(\"train score {} and val score {}\".format(rf2_score,rf2_val_score))"
      ],
      "id": "NAB3WmjhBwi-",
      "execution_count": null,
      "outputs": [
        {
          "output_type": "stream",
          "text": [
            "train score 11321.637156874935 and val score 26923.35142855961\n"
          ],
          "name": "stdout"
        }
      ]
    },
    {
      "cell_type": "markdown",
      "metadata": {
        "id": "prompt-lawrence"
      },
      "source": [
        "Let's save our work before continuing."
      ],
      "id": "prompt-lawrence"
    },
    {
      "cell_type": "markdown",
      "metadata": {
        "id": "afraid-chamber"
      },
      "source": [
        "> **QUESTION 8**: Make predictions and evaluate your final model. If you're unhappy with the results, modify the hyperparameters above and try again."
      ],
      "id": "afraid-chamber"
    },
    {
      "cell_type": "code",
      "metadata": {
        "id": "latest-constraint"
      },
      "source": [
        "rf2_train_preds = rf2.predict(train_inputs)"
      ],
      "id": "latest-constraint",
      "execution_count": null,
      "outputs": []
    },
    {
      "cell_type": "code",
      "metadata": {
        "id": "expected-musician"
      },
      "source": [
        "rf2_train_rmse = np.sqrt(mean_squared_error(train_targets,rf2_train_preds))"
      ],
      "id": "expected-musician",
      "execution_count": null,
      "outputs": []
    },
    {
      "cell_type": "code",
      "metadata": {
        "id": "equivalent-brand"
      },
      "source": [
        "rf2_val_preds = rf2.predict(val_inputs)"
      ],
      "id": "equivalent-brand",
      "execution_count": null,
      "outputs": []
    },
    {
      "cell_type": "code",
      "metadata": {
        "id": "sacred-dealer"
      },
      "source": [
        "rf2_val_rmse = np.sqrt(mean_squared_error(val_targets,rf2_val_preds))"
      ],
      "id": "sacred-dealer",
      "execution_count": null,
      "outputs": []
    },
    {
      "cell_type": "code",
      "metadata": {
        "id": "relevant-musician",
        "colab": {
          "base_uri": "https://localhost:8080/"
        },
        "outputId": "110b172e-390d-451a-9a17-adccfb5d2df1"
      },
      "source": [
        "print('Train RMSE: {}, Validation RMSE: {}'.format(rf2_train_rmse, rf2_val_rmse))"
      ],
      "id": "relevant-musician",
      "execution_count": null,
      "outputs": [
        {
          "output_type": "stream",
          "text": [
            "Train RMSE: 11321.637156874935, Validation RMSE: 26923.35142855961\n"
          ],
          "name": "stdout"
        }
      ]
    },
    {
      "cell_type": "code",
      "metadata": {
        "id": "average-player"
      },
      "source": [
        ""
      ],
      "id": "average-player",
      "execution_count": null,
      "outputs": []
    },
    {
      "cell_type": "markdown",
      "metadata": {
        "id": "danish-filename"
      },
      "source": [
        "Let's also view and plot the feature importances."
      ],
      "id": "danish-filename"
    },
    {
      "cell_type": "code",
      "metadata": {
        "id": "measured-circle"
      },
      "source": [
        "rf2_importance_df = pd.DataFrame({\n",
        "    'feature': train_inputs.columns,\n",
        "    'importance': rf2.feature_importances_\n",
        "}).sort_values('importance', ascending=False)"
      ],
      "id": "measured-circle",
      "execution_count": null,
      "outputs": []
    },
    {
      "cell_type": "code",
      "metadata": {
        "id": "insured-thickness",
        "colab": {
          "base_uri": "https://localhost:8080/",
          "height": 419
        },
        "outputId": "7dd6ed36-26cc-4ee5-be71-9d33d0a34425"
      },
      "source": [
        "rf2_importance_df"
      ],
      "id": "insured-thickness",
      "execution_count": null,
      "outputs": [
        {
          "output_type": "execute_result",
          "data": {
            "text/html": [
              "<div>\n",
              "<style scoped>\n",
              "    .dataframe tbody tr th:only-of-type {\n",
              "        vertical-align: middle;\n",
              "    }\n",
              "\n",
              "    .dataframe tbody tr th {\n",
              "        vertical-align: top;\n",
              "    }\n",
              "\n",
              "    .dataframe thead th {\n",
              "        text-align: right;\n",
              "    }\n",
              "</style>\n",
              "<table border=\"1\" class=\"dataframe\">\n",
              "  <thead>\n",
              "    <tr style=\"text-align: right;\">\n",
              "      <th></th>\n",
              "      <th>feature</th>\n",
              "      <th>importance</th>\n",
              "    </tr>\n",
              "  </thead>\n",
              "  <tbody>\n",
              "    <tr>\n",
              "      <th>3</th>\n",
              "      <td>OverallQual</td>\n",
              "      <td>5.551045e-01</td>\n",
              "    </tr>\n",
              "    <tr>\n",
              "      <th>15</th>\n",
              "      <td>GrLivArea</td>\n",
              "      <td>1.180682e-01</td>\n",
              "    </tr>\n",
              "    <tr>\n",
              "      <th>11</th>\n",
              "      <td>TotalBsmtSF</td>\n",
              "      <td>3.285377e-02</td>\n",
              "    </tr>\n",
              "    <tr>\n",
              "      <th>13</th>\n",
              "      <td>2ndFlrSF</td>\n",
              "      <td>3.150727e-02</td>\n",
              "    </tr>\n",
              "    <tr>\n",
              "      <th>8</th>\n",
              "      <td>BsmtFinSF1</td>\n",
              "      <td>2.752046e-02</td>\n",
              "    </tr>\n",
              "    <tr>\n",
              "      <th>...</th>\n",
              "      <td>...</td>\n",
              "      <td>...</td>\n",
              "    </tr>\n",
              "    <tr>\n",
              "      <th>129</th>\n",
              "      <td>RoofMatl_Roll</td>\n",
              "      <td>4.829660e-09</td>\n",
              "    </tr>\n",
              "    <tr>\n",
              "      <th>127</th>\n",
              "      <td>RoofMatl_Membran</td>\n",
              "      <td>0.000000e+00</td>\n",
              "    </tr>\n",
              "    <tr>\n",
              "      <th>229</th>\n",
              "      <td>Electrical_Mix</td>\n",
              "      <td>0.000000e+00</td>\n",
              "    </tr>\n",
              "    <tr>\n",
              "      <th>105</th>\n",
              "      <td>Condition2_RRNn</td>\n",
              "      <td>0.000000e+00</td>\n",
              "    </tr>\n",
              "    <tr>\n",
              "      <th>101</th>\n",
              "      <td>Condition2_PosA</td>\n",
              "      <td>0.000000e+00</td>\n",
              "    </tr>\n",
              "  </tbody>\n",
              "</table>\n",
              "<p>304 rows × 2 columns</p>\n",
              "</div>"
            ],
            "text/plain": [
              "              feature    importance\n",
              "3         OverallQual  5.551045e-01\n",
              "15          GrLivArea  1.180682e-01\n",
              "11        TotalBsmtSF  3.285377e-02\n",
              "13           2ndFlrSF  3.150727e-02\n",
              "8          BsmtFinSF1  2.752046e-02\n",
              "..                ...           ...\n",
              "129     RoofMatl_Roll  4.829660e-09\n",
              "127  RoofMatl_Membran  0.000000e+00\n",
              "229    Electrical_Mix  0.000000e+00\n",
              "105   Condition2_RRNn  0.000000e+00\n",
              "101   Condition2_PosA  0.000000e+00\n",
              "\n",
              "[304 rows x 2 columns]"
            ]
          },
          "metadata": {
            "tags": []
          },
          "execution_count": 254
        }
      ]
    },
    {
      "cell_type": "code",
      "metadata": {
        "id": "standard-explanation",
        "colab": {
          "base_uri": "https://localhost:8080/",
          "height": 279
        },
        "outputId": "389af14c-e68b-479f-b24c-011a98ad3c76"
      },
      "source": [
        "sns.barplot(data=rf2_importance_df.head(10), x='importance', y='feature');"
      ],
      "id": "standard-explanation",
      "execution_count": null,
      "outputs": [
        {
          "output_type": "display_data",
          "data": {
            "image/png": "[encoded data removed]",
            "text/plain": [
              "<Figure size 432x288 with 1 Axes>"
            ]
          },
          "metadata": {
            "tags": [],
            "needs_background": "light"
          }
        }
      ]
    },
    {
      "cell_type": "code",
      "metadata": {
        "id": "junior-xerox"
      },
      "source": [
        ""
      ],
      "id": "junior-xerox",
      "execution_count": null,
      "outputs": []
    },
    {
      "cell_type": "markdown",
      "metadata": {
        "id": "soviet-springer"
      },
      "source": [
        "Let's save our work before continuing."
      ],
      "id": "soviet-springer"
    },
    {
      "cell_type": "markdown",
      "metadata": {
        "id": "sharp-brush"
      },
      "source": [
        "## Make a Submission\n",
        "\n",
        "To make a submission, just execute the following cell:"
      ],
      "id": "sharp-brush"
    },
    {
      "cell_type": "markdown",
      "metadata": {
        "id": "matched-cornell"
      },
      "source": [
        "You can also submit your Jovian notebook link on the assignment page: https://jovian.ai/learn/machine-learning-with-python-zero-to-gbms/assignment/assignment-2-decision-trees-and-random-forests\n",
        "\n",
        "Make sure to review the evaluation criteria carefully. You can make any number of submissions, and only your final submission will be evalauted.\n",
        "\n",
        "Ask questions, discuss ideas and get help here: https://jovian.ai/forum/c/zero-to-gbms/gbms-assignment-2/99\n",
        "\n",
        "NOTE: **The rest of this assignment is optional.**"
      ],
      "id": "matched-cornell"
    },
    {
      "cell_type": "markdown",
      "metadata": {
        "id": "further-scotland"
      },
      "source": [
        "## Making Predictions on the Test Set\n",
        "\n",
        "Let's make predictions on the test set provided with the data."
      ],
      "id": "further-scotland"
    },
    {
      "cell_type": "code",
      "metadata": {
        "id": "specialized-roots"
      },
      "source": [
        "test_df = pd.read_csv('house-prices/test.csv')"
      ],
      "id": "specialized-roots",
      "execution_count": null,
      "outputs": []
    },
    {
      "cell_type": "code",
      "metadata": {
        "id": "related-marshall",
        "colab": {
          "base_uri": "https://localhost:8080/",
          "height": 439
        },
        "outputId": "e621e10d-47dc-4416-a92b-69a20ab76d47"
      },
      "source": [
        "test_df"
      ],
      "id": "related-marshall",
      "execution_count": null,
      "outputs": [
        {
          "output_type": "execute_result",
          "data": {
            "text/html": [
              "<div>\n",
              "<style scoped>\n",
              "    .dataframe tbody tr th:only-of-type {\n",
              "        vertical-align: middle;\n",
              "    }\n",
              "\n",
              "    .dataframe tbody tr th {\n",
              "        vertical-align: top;\n",
              "    }\n",
              "\n",
              "    .dataframe thead th {\n",
              "        text-align: right;\n",
              "    }\n",
              "</style>\n",
              "<table border=\"1\" class=\"dataframe\">\n",
              "  <thead>\n",
              "    <tr style=\"text-align: right;\">\n",
              "      <th></th>\n",
              "      <th>Id</th>\n",
              "      <th>MSSubClass</th>\n",
              "      <th>MSZoning</th>\n",
              "      <th>LotFrontage</th>\n",
              "      <th>LotArea</th>\n",
              "      <th>Street</th>\n",
              "      <th>Alley</th>\n",
              "      <th>LotShape</th>\n",
              "      <th>LandContour</th>\n",
              "      <th>Utilities</th>\n",
              "      <th>LotConfig</th>\n",
              "      <th>LandSlope</th>\n",
              "      <th>Neighborhood</th>\n",
              "      <th>Condition1</th>\n",
              "      <th>Condition2</th>\n",
              "      <th>BldgType</th>\n",
              "      <th>HouseStyle</th>\n",
              "      <th>OverallQual</th>\n",
              "      <th>OverallCond</th>\n",
              "      <th>YearBuilt</th>\n",
              "      <th>YearRemodAdd</th>\n",
              "      <th>RoofStyle</th>\n",
              "      <th>RoofMatl</th>\n",
              "      <th>Exterior1st</th>\n",
              "      <th>Exterior2nd</th>\n",
              "      <th>MasVnrType</th>\n",
              "      <th>MasVnrArea</th>\n",
              "      <th>ExterQual</th>\n",
              "      <th>ExterCond</th>\n",
              "      <th>Foundation</th>\n",
              "      <th>BsmtQual</th>\n",
              "      <th>BsmtCond</th>\n",
              "      <th>BsmtExposure</th>\n",
              "      <th>BsmtFinType1</th>\n",
              "      <th>BsmtFinSF1</th>\n",
              "      <th>BsmtFinType2</th>\n",
              "      <th>BsmtFinSF2</th>\n",
              "      <th>BsmtUnfSF</th>\n",
              "      <th>TotalBsmtSF</th>\n",
              "      <th>Heating</th>\n",
              "      <th>HeatingQC</th>\n",
              "      <th>CentralAir</th>\n",
              "      <th>Electrical</th>\n",
              "      <th>1stFlrSF</th>\n",
              "      <th>2ndFlrSF</th>\n",
              "      <th>LowQualFinSF</th>\n",
              "      <th>GrLivArea</th>\n",
              "      <th>BsmtFullBath</th>\n",
              "      <th>BsmtHalfBath</th>\n",
              "      <th>FullBath</th>\n",
              "      <th>HalfBath</th>\n",
              "      <th>BedroomAbvGr</th>\n",
              "      <th>KitchenAbvGr</th>\n",
              "      <th>KitchenQual</th>\n",
              "      <th>TotRmsAbvGrd</th>\n",
              "      <th>Functional</th>\n",
              "      <th>Fireplaces</th>\n",
              "      <th>FireplaceQu</th>\n",
              "      <th>GarageType</th>\n",
              "      <th>GarageYrBlt</th>\n",
              "      <th>GarageFinish</th>\n",
              "      <th>GarageCars</th>\n",
              "      <th>GarageArea</th>\n",
              "      <th>GarageQual</th>\n",
              "      <th>GarageCond</th>\n",
              "      <th>PavedDrive</th>\n",
              "      <th>WoodDeckSF</th>\n",
              "      <th>OpenPorchSF</th>\n",
              "      <th>EnclosedPorch</th>\n",
              "      <th>3SsnPorch</th>\n",
              "      <th>ScreenPorch</th>\n",
              "      <th>PoolArea</th>\n",
              "      <th>PoolQC</th>\n",
              "      <th>Fence</th>\n",
              "      <th>MiscFeature</th>\n",
              "      <th>MiscVal</th>\n",
              "      <th>MoSold</th>\n",
              "      <th>YrSold</th>\n",
              "      <th>SaleType</th>\n",
              "      <th>SaleCondition</th>\n",
              "    </tr>\n",
              "  </thead>\n",
              "  <tbody>\n",
              "    <tr>\n",
              "      <th>0</th>\n",
              "      <td>1461</td>\n",
              "      <td>20</td>\n",
              "      <td>RH</td>\n",
              "      <td>80.0</td>\n",
              "      <td>11622</td>\n",
              "      <td>Pave</td>\n",
              "      <td>NaN</td>\n",
              "      <td>Reg</td>\n",
              "      <td>Lvl</td>\n",
              "      <td>AllPub</td>\n",
              "      <td>Inside</td>\n",
              "      <td>Gtl</td>\n",
              "      <td>NAmes</td>\n",
              "      <td>Feedr</td>\n",
              "      <td>Norm</td>\n",
              "      <td>1Fam</td>\n",
              "      <td>1Story</td>\n",
              "      <td>5</td>\n",
              "      <td>6</td>\n",
              "      <td>1961</td>\n",
              "      <td>1961</td>\n",
              "      <td>Gable</td>\n",
              "      <td>CompShg</td>\n",
              "      <td>VinylSd</td>\n",
              "      <td>VinylSd</td>\n",
              "      <td>None</td>\n",
              "      <td>0.0</td>\n",
              "      <td>TA</td>\n",
              "      <td>TA</td>\n",
              "      <td>CBlock</td>\n",
              "      <td>TA</td>\n",
              "      <td>TA</td>\n",
              "      <td>No</td>\n",
              "      <td>Rec</td>\n",
              "      <td>468.0</td>\n",
              "      <td>LwQ</td>\n",
              "      <td>144.0</td>\n",
              "      <td>270.0</td>\n",
              "      <td>882.0</td>\n",
              "      <td>GasA</td>\n",
              "      <td>TA</td>\n",
              "      <td>Y</td>\n",
              "      <td>SBrkr</td>\n",
              "      <td>896</td>\n",
              "      <td>0</td>\n",
              "      <td>0</td>\n",
              "      <td>896</td>\n",
              "      <td>0.0</td>\n",
              "      <td>0.0</td>\n",
              "      <td>1</td>\n",
              "      <td>0</td>\n",
              "      <td>2</td>\n",
              "      <td>1</td>\n",
              "      <td>TA</td>\n",
              "      <td>5</td>\n",
              "      <td>Typ</td>\n",
              "      <td>0</td>\n",
              "      <td>NaN</td>\n",
              "      <td>Attchd</td>\n",
              "      <td>1961.0</td>\n",
              "      <td>Unf</td>\n",
              "      <td>1.0</td>\n",
              "      <td>730.0</td>\n",
              "      <td>TA</td>\n",
              "      <td>TA</td>\n",
              "      <td>Y</td>\n",
              "      <td>140</td>\n",
              "      <td>0</td>\n",
              "      <td>0</td>\n",
              "      <td>0</td>\n",
              "      <td>120</td>\n",
              "      <td>0</td>\n",
              "      <td>NaN</td>\n",
              "      <td>MnPrv</td>\n",
              "      <td>NaN</td>\n",
              "      <td>0</td>\n",
              "      <td>6</td>\n",
              "      <td>2010</td>\n",
              "      <td>WD</td>\n",
              "      <td>Normal</td>\n",
              "    </tr>\n",
              "    <tr>\n",
              "      <th>1</th>\n",
              "      <td>1462</td>\n",
              "      <td>20</td>\n",
              "      <td>RL</td>\n",
              "      <td>81.0</td>\n",
              "      <td>14267</td>\n",
              "      <td>Pave</td>\n",
              "      <td>NaN</td>\n",
              "      <td>IR1</td>\n",
              "      <td>Lvl</td>\n",
              "      <td>AllPub</td>\n",
              "      <td>Corner</td>\n",
              "      <td>Gtl</td>\n",
              "      <td>NAmes</td>\n",
              "      <td>Norm</td>\n",
              "      <td>Norm</td>\n",
              "      <td>1Fam</td>\n",
              "      <td>1Story</td>\n",
              "      <td>6</td>\n",
              "      <td>6</td>\n",
              "      <td>1958</td>\n",
              "      <td>1958</td>\n",
              "      <td>Hip</td>\n",
              "      <td>CompShg</td>\n",
              "      <td>Wd Sdng</td>\n",
              "      <td>Wd Sdng</td>\n",
              "      <td>BrkFace</td>\n",
              "      <td>108.0</td>\n",
              "      <td>TA</td>\n",
              "      <td>TA</td>\n",
              "      <td>CBlock</td>\n",
              "      <td>TA</td>\n",
              "      <td>TA</td>\n",
              "      <td>No</td>\n",
              "      <td>ALQ</td>\n",
              "      <td>923.0</td>\n",
              "      <td>Unf</td>\n",
              "      <td>0.0</td>\n",
              "      <td>406.0</td>\n",
              "      <td>1329.0</td>\n",
              "      <td>GasA</td>\n",
              "      <td>TA</td>\n",
              "      <td>Y</td>\n",
              "      <td>SBrkr</td>\n",
              "      <td>1329</td>\n",
              "      <td>0</td>\n",
              "      <td>0</td>\n",
              "      <td>1329</td>\n",
              "      <td>0.0</td>\n",
              "      <td>0.0</td>\n",
              "      <td>1</td>\n",
              "      <td>1</td>\n",
              "      <td>3</td>\n",
              "      <td>1</td>\n",
              "      <td>Gd</td>\n",
              "      <td>6</td>\n",
              "      <td>Typ</td>\n",
              "      <td>0</td>\n",
              "      <td>NaN</td>\n",
              "      <td>Attchd</td>\n",
              "      <td>1958.0</td>\n",
              "      <td>Unf</td>\n",
              "      <td>1.0</td>\n",
              "      <td>312.0</td>\n",
              "      <td>TA</td>\n",
              "      <td>TA</td>\n",
              "      <td>Y</td>\n",
              "      <td>393</td>\n",
              "      <td>36</td>\n",
              "      <td>0</td>\n",
              "      <td>0</td>\n",
              "      <td>0</td>\n",
              "      <td>0</td>\n",
              "      <td>NaN</td>\n",
              "      <td>NaN</td>\n",
              "      <td>Gar2</td>\n",
              "      <td>12500</td>\n",
              "      <td>6</td>\n",
              "      <td>2010</td>\n",
              "      <td>WD</td>\n",
              "      <td>Normal</td>\n",
              "    </tr>\n",
              "    <tr>\n",
              "      <th>2</th>\n",
              "      <td>1463</td>\n",
              "      <td>60</td>\n",
              "      <td>RL</td>\n",
              "      <td>74.0</td>\n",
              "      <td>13830</td>\n",
              "      <td>Pave</td>\n",
              "      <td>NaN</td>\n",
              "      <td>IR1</td>\n",
              "      <td>Lvl</td>\n",
              "      <td>AllPub</td>\n",
              "      <td>Inside</td>\n",
              "      <td>Gtl</td>\n",
              "      <td>Gilbert</td>\n",
              "      <td>Norm</td>\n",
              "      <td>Norm</td>\n",
              "      <td>1Fam</td>\n",
              "      <td>2Story</td>\n",
              "      <td>5</td>\n",
              "      <td>5</td>\n",
              "      <td>1997</td>\n",
              "      <td>1998</td>\n",
              "      <td>Gable</td>\n",
              "      <td>CompShg</td>\n",
              "      <td>VinylSd</td>\n",
              "      <td>VinylSd</td>\n",
              "      <td>None</td>\n",
              "      <td>0.0</td>\n",
              "      <td>TA</td>\n",
              "      <td>TA</td>\n",
              "      <td>PConc</td>\n",
              "      <td>Gd</td>\n",
              "      <td>TA</td>\n",
              "      <td>No</td>\n",
              "      <td>GLQ</td>\n",
              "      <td>791.0</td>\n",
              "      <td>Unf</td>\n",
              "      <td>0.0</td>\n",
              "      <td>137.0</td>\n",
              "      <td>928.0</td>\n",
              "      <td>GasA</td>\n",
              "      <td>Gd</td>\n",
              "      <td>Y</td>\n",
              "      <td>SBrkr</td>\n",
              "      <td>928</td>\n",
              "      <td>701</td>\n",
              "      <td>0</td>\n",
              "      <td>1629</td>\n",
              "      <td>0.0</td>\n",
              "      <td>0.0</td>\n",
              "      <td>2</td>\n",
              "      <td>1</td>\n",
              "      <td>3</td>\n",
              "      <td>1</td>\n",
              "      <td>TA</td>\n",
              "      <td>6</td>\n",
              "      <td>Typ</td>\n",
              "      <td>1</td>\n",
              "      <td>TA</td>\n",
              "      <td>Attchd</td>\n",
              "      <td>1997.0</td>\n",
              "      <td>Fin</td>\n",
              "      <td>2.0</td>\n",
              "      <td>482.0</td>\n",
              "      <td>TA</td>\n",
              "      <td>TA</td>\n",
              "      <td>Y</td>\n",
              "      <td>212</td>\n",
              "      <td>34</td>\n",
              "      <td>0</td>\n",
              "      <td>0</td>\n",
              "      <td>0</td>\n",
              "      <td>0</td>\n",
              "      <td>NaN</td>\n",
              "      <td>MnPrv</td>\n",
              "      <td>NaN</td>\n",
              "      <td>0</td>\n",
              "      <td>3</td>\n",
              "      <td>2010</td>\n",
              "      <td>WD</td>\n",
              "      <td>Normal</td>\n",
              "    </tr>\n",
              "    <tr>\n",
              "      <th>3</th>\n",
              "      <td>1464</td>\n",
              "      <td>60</td>\n",
              "      <td>RL</td>\n",
              "      <td>78.0</td>\n",
              "      <td>9978</td>\n",
              "      <td>Pave</td>\n",
              "      <td>NaN</td>\n",
              "      <td>IR1</td>\n",
              "      <td>Lvl</td>\n",
              "      <td>AllPub</td>\n",
              "      <td>Inside</td>\n",
              "      <td>Gtl</td>\n",
              "      <td>Gilbert</td>\n",
              "      <td>Norm</td>\n",
              "      <td>Norm</td>\n",
              "      <td>1Fam</td>\n",
              "      <td>2Story</td>\n",
              "      <td>6</td>\n",
              "      <td>6</td>\n",
              "      <td>1998</td>\n",
              "      <td>1998</td>\n",
              "      <td>Gable</td>\n",
              "      <td>CompShg</td>\n",
              "      <td>VinylSd</td>\n",
              "      <td>VinylSd</td>\n",
              "      <td>BrkFace</td>\n",
              "      <td>20.0</td>\n",
              "      <td>TA</td>\n",
              "      <td>TA</td>\n",
              "      <td>PConc</td>\n",
              "      <td>TA</td>\n",
              "      <td>TA</td>\n",
              "      <td>No</td>\n",
              "      <td>GLQ</td>\n",
              "      <td>602.0</td>\n",
              "      <td>Unf</td>\n",
              "      <td>0.0</td>\n",
              "      <td>324.0</td>\n",
              "      <td>926.0</td>\n",
              "      <td>GasA</td>\n",
              "      <td>Ex</td>\n",
              "      <td>Y</td>\n",
              "      <td>SBrkr</td>\n",
              "      <td>926</td>\n",
              "      <td>678</td>\n",
              "      <td>0</td>\n",
              "      <td>1604</td>\n",
              "      <td>0.0</td>\n",
              "      <td>0.0</td>\n",
              "      <td>2</td>\n",
              "      <td>1</td>\n",
              "      <td>3</td>\n",
              "      <td>1</td>\n",
              "      <td>Gd</td>\n",
              "      <td>7</td>\n",
              "      <td>Typ</td>\n",
              "      <td>1</td>\n",
              "      <td>Gd</td>\n",
              "      <td>Attchd</td>\n",
              "      <td>1998.0</td>\n",
              "      <td>Fin</td>\n",
              "      <td>2.0</td>\n",
              "      <td>470.0</td>\n",
              "      <td>TA</td>\n",
              "      <td>TA</td>\n",
              "      <td>Y</td>\n",
              "      <td>360</td>\n",
              "      <td>36</td>\n",
              "      <td>0</td>\n",
              "      <td>0</td>\n",
              "      <td>0</td>\n",
              "      <td>0</td>\n",
              "      <td>NaN</td>\n",
              "      <td>NaN</td>\n",
              "      <td>NaN</td>\n",
              "      <td>0</td>\n",
              "      <td>6</td>\n",
              "      <td>2010</td>\n",
              "      <td>WD</td>\n",
              "      <td>Normal</td>\n",
              "    </tr>\n",
              "    <tr>\n",
              "      <th>4</th>\n",
              "      <td>1465</td>\n",
              "      <td>120</td>\n",
              "      <td>RL</td>\n",
              "      <td>43.0</td>\n",
              "      <td>5005</td>\n",
              "      <td>Pave</td>\n",
              "      <td>NaN</td>\n",
              "      <td>IR1</td>\n",
              "      <td>HLS</td>\n",
              "      <td>AllPub</td>\n",
              "      <td>Inside</td>\n",
              "      <td>Gtl</td>\n",
              "      <td>StoneBr</td>\n",
              "      <td>Norm</td>\n",
              "      <td>Norm</td>\n",
              "      <td>TwnhsE</td>\n",
              "      <td>1Story</td>\n",
              "      <td>8</td>\n",
              "      <td>5</td>\n",
              "      <td>1992</td>\n",
              "      <td>1992</td>\n",
              "      <td>Gable</td>\n",
              "      <td>CompShg</td>\n",
              "      <td>HdBoard</td>\n",
              "      <td>HdBoard</td>\n",
              "      <td>None</td>\n",
              "      <td>0.0</td>\n",
              "      <td>Gd</td>\n",
              "      <td>TA</td>\n",
              "      <td>PConc</td>\n",
              "      <td>Gd</td>\n",
              "      <td>TA</td>\n",
              "      <td>No</td>\n",
              "      <td>ALQ</td>\n",
              "      <td>263.0</td>\n",
              "      <td>Unf</td>\n",
              "      <td>0.0</td>\n",
              "      <td>1017.0</td>\n",
              "      <td>1280.0</td>\n",
              "      <td>GasA</td>\n",
              "      <td>Ex</td>\n",
              "      <td>Y</td>\n",
              "      <td>SBrkr</td>\n",
              "      <td>1280</td>\n",
              "      <td>0</td>\n",
              "      <td>0</td>\n",
              "      <td>1280</td>\n",
              "      <td>0.0</td>\n",
              "      <td>0.0</td>\n",
              "      <td>2</td>\n",
              "      <td>0</td>\n",
              "      <td>2</td>\n",
              "      <td>1</td>\n",
              "      <td>Gd</td>\n",
              "      <td>5</td>\n",
              "      <td>Typ</td>\n",
              "      <td>0</td>\n",
              "      <td>NaN</td>\n",
              "      <td>Attchd</td>\n",
              "      <td>1992.0</td>\n",
              "      <td>RFn</td>\n",
              "      <td>2.0</td>\n",
              "      <td>506.0</td>\n",
              "      <td>TA</td>\n",
              "      <td>TA</td>\n",
              "      <td>Y</td>\n",
              "      <td>0</td>\n",
              "      <td>82</td>\n",
              "      <td>0</td>\n",
              "      <td>0</td>\n",
              "      <td>144</td>\n",
              "      <td>0</td>\n",
              "      <td>NaN</td>\n",
              "      <td>NaN</td>\n",
              "      <td>NaN</td>\n",
              "      <td>0</td>\n",
              "      <td>1</td>\n",
              "      <td>2010</td>\n",
              "      <td>WD</td>\n",
              "      <td>Normal</td>\n",
              "    </tr>\n",
              "    <tr>\n",
              "      <th>...</th>\n",
              "      <td>...</td>\n",
              "      <td>...</td>\n",
              "      <td>...</td>\n",
              "      <td>...</td>\n",
              "      <td>...</td>\n",
              "      <td>...</td>\n",
              "      <td>...</td>\n",
              "      <td>...</td>\n",
              "      <td>...</td>\n",
              "      <td>...</td>\n",
              "      <td>...</td>\n",
              "      <td>...</td>\n",
              "      <td>...</td>\n",
              "      <td>...</td>\n",
              "      <td>...</td>\n",
              "      <td>...</td>\n",
              "      <td>...</td>\n",
              "      <td>...</td>\n",
              "      <td>...</td>\n",
              "      <td>...</td>\n",
              "      <td>...</td>\n",
              "      <td>...</td>\n",
              "      <td>...</td>\n",
              "      <td>...</td>\n",
              "      <td>...</td>\n",
              "      <td>...</td>\n",
              "      <td>...</td>\n",
              "      <td>...</td>\n",
              "      <td>...</td>\n",
              "      <td>...</td>\n",
              "      <td>...</td>\n",
              "      <td>...</td>\n",
              "      <td>...</td>\n",
              "      <td>...</td>\n",
              "      <td>...</td>\n",
              "      <td>...</td>\n",
              "      <td>...</td>\n",
              "      <td>...</td>\n",
              "      <td>...</td>\n",
              "      <td>...</td>\n",
              "      <td>...</td>\n",
              "      <td>...</td>\n",
              "      <td>...</td>\n",
              "      <td>...</td>\n",
              "      <td>...</td>\n",
              "      <td>...</td>\n",
              "      <td>...</td>\n",
              "      <td>...</td>\n",
              "      <td>...</td>\n",
              "      <td>...</td>\n",
              "      <td>...</td>\n",
              "      <td>...</td>\n",
              "      <td>...</td>\n",
              "      <td>...</td>\n",
              "      <td>...</td>\n",
              "      <td>...</td>\n",
              "      <td>...</td>\n",
              "      <td>...</td>\n",
              "      <td>...</td>\n",
              "      <td>...</td>\n",
              "      <td>...</td>\n",
              "      <td>...</td>\n",
              "      <td>...</td>\n",
              "      <td>...</td>\n",
              "      <td>...</td>\n",
              "      <td>...</td>\n",
              "      <td>...</td>\n",
              "      <td>...</td>\n",
              "      <td>...</td>\n",
              "      <td>...</td>\n",
              "      <td>...</td>\n",
              "      <td>...</td>\n",
              "      <td>...</td>\n",
              "      <td>...</td>\n",
              "      <td>...</td>\n",
              "      <td>...</td>\n",
              "      <td>...</td>\n",
              "      <td>...</td>\n",
              "      <td>...</td>\n",
              "      <td>...</td>\n",
              "    </tr>\n",
              "    <tr>\n",
              "      <th>1454</th>\n",
              "      <td>2915</td>\n",
              "      <td>160</td>\n",
              "      <td>RM</td>\n",
              "      <td>21.0</td>\n",
              "      <td>1936</td>\n",
              "      <td>Pave</td>\n",
              "      <td>NaN</td>\n",
              "      <td>Reg</td>\n",
              "      <td>Lvl</td>\n",
              "      <td>AllPub</td>\n",
              "      <td>Inside</td>\n",
              "      <td>Gtl</td>\n",
              "      <td>MeadowV</td>\n",
              "      <td>Norm</td>\n",
              "      <td>Norm</td>\n",
              "      <td>Twnhs</td>\n",
              "      <td>2Story</td>\n",
              "      <td>4</td>\n",
              "      <td>7</td>\n",
              "      <td>1970</td>\n",
              "      <td>1970</td>\n",
              "      <td>Gable</td>\n",
              "      <td>CompShg</td>\n",
              "      <td>CemntBd</td>\n",
              "      <td>CmentBd</td>\n",
              "      <td>None</td>\n",
              "      <td>0.0</td>\n",
              "      <td>TA</td>\n",
              "      <td>TA</td>\n",
              "      <td>CBlock</td>\n",
              "      <td>TA</td>\n",
              "      <td>TA</td>\n",
              "      <td>No</td>\n",
              "      <td>Unf</td>\n",
              "      <td>0.0</td>\n",
              "      <td>Unf</td>\n",
              "      <td>0.0</td>\n",
              "      <td>546.0</td>\n",
              "      <td>546.0</td>\n",
              "      <td>GasA</td>\n",
              "      <td>Gd</td>\n",
              "      <td>Y</td>\n",
              "      <td>SBrkr</td>\n",
              "      <td>546</td>\n",
              "      <td>546</td>\n",
              "      <td>0</td>\n",
              "      <td>1092</td>\n",
              "      <td>0.0</td>\n",
              "      <td>0.0</td>\n",
              "      <td>1</td>\n",
              "      <td>1</td>\n",
              "      <td>3</td>\n",
              "      <td>1</td>\n",
              "      <td>TA</td>\n",
              "      <td>5</td>\n",
              "      <td>Typ</td>\n",
              "      <td>0</td>\n",
              "      <td>NaN</td>\n",
              "      <td>NaN</td>\n",
              "      <td>NaN</td>\n",
              "      <td>NaN</td>\n",
              "      <td>0.0</td>\n",
              "      <td>0.0</td>\n",
              "      <td>NaN</td>\n",
              "      <td>NaN</td>\n",
              "      <td>Y</td>\n",
              "      <td>0</td>\n",
              "      <td>0</td>\n",
              "      <td>0</td>\n",
              "      <td>0</td>\n",
              "      <td>0</td>\n",
              "      <td>0</td>\n",
              "      <td>NaN</td>\n",
              "      <td>NaN</td>\n",
              "      <td>NaN</td>\n",
              "      <td>0</td>\n",
              "      <td>6</td>\n",
              "      <td>2006</td>\n",
              "      <td>WD</td>\n",
              "      <td>Normal</td>\n",
              "    </tr>\n",
              "    <tr>\n",
              "      <th>1455</th>\n",
              "      <td>2916</td>\n",
              "      <td>160</td>\n",
              "      <td>RM</td>\n",
              "      <td>21.0</td>\n",
              "      <td>1894</td>\n",
              "      <td>Pave</td>\n",
              "      <td>NaN</td>\n",
              "      <td>Reg</td>\n",
              "      <td>Lvl</td>\n",
              "      <td>AllPub</td>\n",
              "      <td>Inside</td>\n",
              "      <td>Gtl</td>\n",
              "      <td>MeadowV</td>\n",
              "      <td>Norm</td>\n",
              "      <td>Norm</td>\n",
              "      <td>TwnhsE</td>\n",
              "      <td>2Story</td>\n",
              "      <td>4</td>\n",
              "      <td>5</td>\n",
              "      <td>1970</td>\n",
              "      <td>1970</td>\n",
              "      <td>Gable</td>\n",
              "      <td>CompShg</td>\n",
              "      <td>CemntBd</td>\n",
              "      <td>CmentBd</td>\n",
              "      <td>None</td>\n",
              "      <td>0.0</td>\n",
              "      <td>TA</td>\n",
              "      <td>TA</td>\n",
              "      <td>CBlock</td>\n",
              "      <td>TA</td>\n",
              "      <td>TA</td>\n",
              "      <td>No</td>\n",
              "      <td>Rec</td>\n",
              "      <td>252.0</td>\n",
              "      <td>Unf</td>\n",
              "      <td>0.0</td>\n",
              "      <td>294.0</td>\n",
              "      <td>546.0</td>\n",
              "      <td>GasA</td>\n",
              "      <td>TA</td>\n",
              "      <td>Y</td>\n",
              "      <td>SBrkr</td>\n",
              "      <td>546</td>\n",
              "      <td>546</td>\n",
              "      <td>0</td>\n",
              "      <td>1092</td>\n",
              "      <td>0.0</td>\n",
              "      <td>0.0</td>\n",
              "      <td>1</td>\n",
              "      <td>1</td>\n",
              "      <td>3</td>\n",
              "      <td>1</td>\n",
              "      <td>TA</td>\n",
              "      <td>6</td>\n",
              "      <td>Typ</td>\n",
              "      <td>0</td>\n",
              "      <td>NaN</td>\n",
              "      <td>CarPort</td>\n",
              "      <td>1970.0</td>\n",
              "      <td>Unf</td>\n",
              "      <td>1.0</td>\n",
              "      <td>286.0</td>\n",
              "      <td>TA</td>\n",
              "      <td>TA</td>\n",
              "      <td>Y</td>\n",
              "      <td>0</td>\n",
              "      <td>24</td>\n",
              "      <td>0</td>\n",
              "      <td>0</td>\n",
              "      <td>0</td>\n",
              "      <td>0</td>\n",
              "      <td>NaN</td>\n",
              "      <td>NaN</td>\n",
              "      <td>NaN</td>\n",
              "      <td>0</td>\n",
              "      <td>4</td>\n",
              "      <td>2006</td>\n",
              "      <td>WD</td>\n",
              "      <td>Abnorml</td>\n",
              "    </tr>\n",
              "    <tr>\n",
              "      <th>1456</th>\n",
              "      <td>2917</td>\n",
              "      <td>20</td>\n",
              "      <td>RL</td>\n",
              "      <td>160.0</td>\n",
              "      <td>20000</td>\n",
              "      <td>Pave</td>\n",
              "      <td>NaN</td>\n",
              "      <td>Reg</td>\n",
              "      <td>Lvl</td>\n",
              "      <td>AllPub</td>\n",
              "      <td>Inside</td>\n",
              "      <td>Gtl</td>\n",
              "      <td>Mitchel</td>\n",
              "      <td>Norm</td>\n",
              "      <td>Norm</td>\n",
              "      <td>1Fam</td>\n",
              "      <td>1Story</td>\n",
              "      <td>5</td>\n",
              "      <td>7</td>\n",
              "      <td>1960</td>\n",
              "      <td>1996</td>\n",
              "      <td>Gable</td>\n",
              "      <td>CompShg</td>\n",
              "      <td>VinylSd</td>\n",
              "      <td>VinylSd</td>\n",
              "      <td>None</td>\n",
              "      <td>0.0</td>\n",
              "      <td>TA</td>\n",
              "      <td>TA</td>\n",
              "      <td>CBlock</td>\n",
              "      <td>TA</td>\n",
              "      <td>TA</td>\n",
              "      <td>No</td>\n",
              "      <td>ALQ</td>\n",
              "      <td>1224.0</td>\n",
              "      <td>Unf</td>\n",
              "      <td>0.0</td>\n",
              "      <td>0.0</td>\n",
              "      <td>1224.0</td>\n",
              "      <td>GasA</td>\n",
              "      <td>Ex</td>\n",
              "      <td>Y</td>\n",
              "      <td>SBrkr</td>\n",
              "      <td>1224</td>\n",
              "      <td>0</td>\n",
              "      <td>0</td>\n",
              "      <td>1224</td>\n",
              "      <td>1.0</td>\n",
              "      <td>0.0</td>\n",
              "      <td>1</td>\n",
              "      <td>0</td>\n",
              "      <td>4</td>\n",
              "      <td>1</td>\n",
              "      <td>TA</td>\n",
              "      <td>7</td>\n",
              "      <td>Typ</td>\n",
              "      <td>1</td>\n",
              "      <td>TA</td>\n",
              "      <td>Detchd</td>\n",
              "      <td>1960.0</td>\n",
              "      <td>Unf</td>\n",
              "      <td>2.0</td>\n",
              "      <td>576.0</td>\n",
              "      <td>TA</td>\n",
              "      <td>TA</td>\n",
              "      <td>Y</td>\n",
              "      <td>474</td>\n",
              "      <td>0</td>\n",
              "      <td>0</td>\n",
              "      <td>0</td>\n",
              "      <td>0</td>\n",
              "      <td>0</td>\n",
              "      <td>NaN</td>\n",
              "      <td>NaN</td>\n",
              "      <td>NaN</td>\n",
              "      <td>0</td>\n",
              "      <td>9</td>\n",
              "      <td>2006</td>\n",
              "      <td>WD</td>\n",
              "      <td>Abnorml</td>\n",
              "    </tr>\n",
              "    <tr>\n",
              "      <th>1457</th>\n",
              "      <td>2918</td>\n",
              "      <td>85</td>\n",
              "      <td>RL</td>\n",
              "      <td>62.0</td>\n",
              "      <td>10441</td>\n",
              "      <td>Pave</td>\n",
              "      <td>NaN</td>\n",
              "      <td>Reg</td>\n",
              "      <td>Lvl</td>\n",
              "      <td>AllPub</td>\n",
              "      <td>Inside</td>\n",
              "      <td>Gtl</td>\n",
              "      <td>Mitchel</td>\n",
              "      <td>Norm</td>\n",
              "      <td>Norm</td>\n",
              "      <td>1Fam</td>\n",
              "      <td>SFoyer</td>\n",
              "      <td>5</td>\n",
              "      <td>5</td>\n",
              "      <td>1992</td>\n",
              "      <td>1992</td>\n",
              "      <td>Gable</td>\n",
              "      <td>CompShg</td>\n",
              "      <td>HdBoard</td>\n",
              "      <td>Wd Shng</td>\n",
              "      <td>None</td>\n",
              "      <td>0.0</td>\n",
              "      <td>TA</td>\n",
              "      <td>TA</td>\n",
              "      <td>PConc</td>\n",
              "      <td>Gd</td>\n",
              "      <td>TA</td>\n",
              "      <td>Av</td>\n",
              "      <td>GLQ</td>\n",
              "      <td>337.0</td>\n",
              "      <td>Unf</td>\n",
              "      <td>0.0</td>\n",
              "      <td>575.0</td>\n",
              "      <td>912.0</td>\n",
              "      <td>GasA</td>\n",
              "      <td>TA</td>\n",
              "      <td>Y</td>\n",
              "      <td>SBrkr</td>\n",
              "      <td>970</td>\n",
              "      <td>0</td>\n",
              "      <td>0</td>\n",
              "      <td>970</td>\n",
              "      <td>0.0</td>\n",
              "      <td>1.0</td>\n",
              "      <td>1</td>\n",
              "      <td>0</td>\n",
              "      <td>3</td>\n",
              "      <td>1</td>\n",
              "      <td>TA</td>\n",
              "      <td>6</td>\n",
              "      <td>Typ</td>\n",
              "      <td>0</td>\n",
              "      <td>NaN</td>\n",
              "      <td>NaN</td>\n",
              "      <td>NaN</td>\n",
              "      <td>NaN</td>\n",
              "      <td>0.0</td>\n",
              "      <td>0.0</td>\n",
              "      <td>NaN</td>\n",
              "      <td>NaN</td>\n",
              "      <td>Y</td>\n",
              "      <td>80</td>\n",
              "      <td>32</td>\n",
              "      <td>0</td>\n",
              "      <td>0</td>\n",
              "      <td>0</td>\n",
              "      <td>0</td>\n",
              "      <td>NaN</td>\n",
              "      <td>MnPrv</td>\n",
              "      <td>Shed</td>\n",
              "      <td>700</td>\n",
              "      <td>7</td>\n",
              "      <td>2006</td>\n",
              "      <td>WD</td>\n",
              "      <td>Normal</td>\n",
              "    </tr>\n",
              "    <tr>\n",
              "      <th>1458</th>\n",
              "      <td>2919</td>\n",
              "      <td>60</td>\n",
              "      <td>RL</td>\n",
              "      <td>74.0</td>\n",
              "      <td>9627</td>\n",
              "      <td>Pave</td>\n",
              "      <td>NaN</td>\n",
              "      <td>Reg</td>\n",
              "      <td>Lvl</td>\n",
              "      <td>AllPub</td>\n",
              "      <td>Inside</td>\n",
              "      <td>Mod</td>\n",
              "      <td>Mitchel</td>\n",
              "      <td>Norm</td>\n",
              "      <td>Norm</td>\n",
              "      <td>1Fam</td>\n",
              "      <td>2Story</td>\n",
              "      <td>7</td>\n",
              "      <td>5</td>\n",
              "      <td>1993</td>\n",
              "      <td>1994</td>\n",
              "      <td>Gable</td>\n",
              "      <td>CompShg</td>\n",
              "      <td>HdBoard</td>\n",
              "      <td>HdBoard</td>\n",
              "      <td>BrkFace</td>\n",
              "      <td>94.0</td>\n",
              "      <td>TA</td>\n",
              "      <td>TA</td>\n",
              "      <td>PConc</td>\n",
              "      <td>Gd</td>\n",
              "      <td>TA</td>\n",
              "      <td>Av</td>\n",
              "      <td>LwQ</td>\n",
              "      <td>758.0</td>\n",
              "      <td>Unf</td>\n",
              "      <td>0.0</td>\n",
              "      <td>238.0</td>\n",
              "      <td>996.0</td>\n",
              "      <td>GasA</td>\n",
              "      <td>Ex</td>\n",
              "      <td>Y</td>\n",
              "      <td>SBrkr</td>\n",
              "      <td>996</td>\n",
              "      <td>1004</td>\n",
              "      <td>0</td>\n",
              "      <td>2000</td>\n",
              "      <td>0.0</td>\n",
              "      <td>0.0</td>\n",
              "      <td>2</td>\n",
              "      <td>1</td>\n",
              "      <td>3</td>\n",
              "      <td>1</td>\n",
              "      <td>TA</td>\n",
              "      <td>9</td>\n",
              "      <td>Typ</td>\n",
              "      <td>1</td>\n",
              "      <td>TA</td>\n",
              "      <td>Attchd</td>\n",
              "      <td>1993.0</td>\n",
              "      <td>Fin</td>\n",
              "      <td>3.0</td>\n",
              "      <td>650.0</td>\n",
              "      <td>TA</td>\n",
              "      <td>TA</td>\n",
              "      <td>Y</td>\n",
              "      <td>190</td>\n",
              "      <td>48</td>\n",
              "      <td>0</td>\n",
              "      <td>0</td>\n",
              "      <td>0</td>\n",
              "      <td>0</td>\n",
              "      <td>NaN</td>\n",
              "      <td>NaN</td>\n",
              "      <td>NaN</td>\n",
              "      <td>0</td>\n",
              "      <td>11</td>\n",
              "      <td>2006</td>\n",
              "      <td>WD</td>\n",
              "      <td>Normal</td>\n",
              "    </tr>\n",
              "  </tbody>\n",
              "</table>\n",
              "<p>1459 rows × 80 columns</p>\n",
              "</div>"
            ],
            "text/plain": [
              "        Id  MSSubClass MSZoning  LotFrontage  LotArea Street Alley LotShape  \\\n",
              "0     1461          20       RH         80.0    11622   Pave   NaN      Reg   \n",
              "1     1462          20       RL         81.0    14267   Pave   NaN      IR1   \n",
              "2     1463          60       RL         74.0    13830   Pave   NaN      IR1   \n",
              "3     1464          60       RL         78.0     9978   Pave   NaN      IR1   \n",
              "4     1465         120       RL         43.0     5005   Pave   NaN      IR1   \n",
              "...    ...         ...      ...          ...      ...    ...   ...      ...   \n",
              "1454  2915         160       RM         21.0     1936   Pave   NaN      Reg   \n",
              "1455  2916         160       RM         21.0     1894   Pave   NaN      Reg   \n",
              "1456  2917          20       RL        160.0    20000   Pave   NaN      Reg   \n",
              "1457  2918          85       RL         62.0    10441   Pave   NaN      Reg   \n",
              "1458  2919          60       RL         74.0     9627   Pave   NaN      Reg   \n",
              "\n",
              "     LandContour Utilities LotConfig LandSlope Neighborhood Condition1  \\\n",
              "0            Lvl    AllPub    Inside       Gtl        NAmes      Feedr   \n",
              "1            Lvl    AllPub    Corner       Gtl        NAmes       Norm   \n",
              "2            Lvl    AllPub    Inside       Gtl      Gilbert       Norm   \n",
              "3            Lvl    AllPub    Inside       Gtl      Gilbert       Norm   \n",
              "4            HLS    AllPub    Inside       Gtl      StoneBr       Norm   \n",
              "...          ...       ...       ...       ...          ...        ...   \n",
              "1454         Lvl    AllPub    Inside       Gtl      MeadowV       Norm   \n",
              "1455         Lvl    AllPub    Inside       Gtl      MeadowV       Norm   \n",
              "1456         Lvl    AllPub    Inside       Gtl      Mitchel       Norm   \n",
              "1457         Lvl    AllPub    Inside       Gtl      Mitchel       Norm   \n",
              "1458         Lvl    AllPub    Inside       Mod      Mitchel       Norm   \n",
              "\n",
              "     Condition2 BldgType HouseStyle  OverallQual  OverallCond  YearBuilt  \\\n",
              "0          Norm     1Fam     1Story            5            6       1961   \n",
              "1          Norm     1Fam     1Story            6            6       1958   \n",
              "2          Norm     1Fam     2Story            5            5       1997   \n",
              "3          Norm     1Fam     2Story            6            6       1998   \n",
              "4          Norm   TwnhsE     1Story            8            5       1992   \n",
              "...         ...      ...        ...          ...          ...        ...   \n",
              "1454       Norm    Twnhs     2Story            4            7       1970   \n",
              "1455       Norm   TwnhsE     2Story            4            5       1970   \n",
              "1456       Norm     1Fam     1Story            5            7       1960   \n",
              "1457       Norm     1Fam     SFoyer            5            5       1992   \n",
              "1458       Norm     1Fam     2Story            7            5       1993   \n",
              "\n",
              "      YearRemodAdd RoofStyle RoofMatl Exterior1st Exterior2nd MasVnrType  \\\n",
              "0             1961     Gable  CompShg     VinylSd     VinylSd       None   \n",
              "1             1958       Hip  CompShg     Wd Sdng     Wd Sdng    BrkFace   \n",
              "2             1998     Gable  CompShg     VinylSd     VinylSd       None   \n",
              "3             1998     Gable  CompShg     VinylSd     VinylSd    BrkFace   \n",
              "4             1992     Gable  CompShg     HdBoard     HdBoard       None   \n",
              "...            ...       ...      ...         ...         ...        ...   \n",
              "1454          1970     Gable  CompShg     CemntBd     CmentBd       None   \n",
              "1455          1970     Gable  CompShg     CemntBd     CmentBd       None   \n",
              "1456          1996     Gable  CompShg     VinylSd     VinylSd       None   \n",
              "1457          1992     Gable  CompShg     HdBoard     Wd Shng       None   \n",
              "1458          1994     Gable  CompShg     HdBoard     HdBoard    BrkFace   \n",
              "\n",
              "      MasVnrArea ExterQual ExterCond Foundation BsmtQual BsmtCond  \\\n",
              "0            0.0        TA        TA     CBlock       TA       TA   \n",
              "1          108.0        TA        TA     CBlock       TA       TA   \n",
              "2            0.0        TA        TA      PConc       Gd       TA   \n",
              "3           20.0        TA        TA      PConc       TA       TA   \n",
              "4            0.0        Gd        TA      PConc       Gd       TA   \n",
              "...          ...       ...       ...        ...      ...      ...   \n",
              "1454         0.0        TA        TA     CBlock       TA       TA   \n",
              "1455         0.0        TA        TA     CBlock       TA       TA   \n",
              "1456         0.0        TA        TA     CBlock       TA       TA   \n",
              "1457         0.0        TA        TA      PConc       Gd       TA   \n",
              "1458        94.0        TA        TA      PConc       Gd       TA   \n",
              "\n",
              "     BsmtExposure BsmtFinType1  BsmtFinSF1 BsmtFinType2  BsmtFinSF2  \\\n",
              "0              No          Rec       468.0          LwQ       144.0   \n",
              "1              No          ALQ       923.0          Unf         0.0   \n",
              "2              No          GLQ       791.0          Unf         0.0   \n",
              "3              No          GLQ       602.0          Unf         0.0   \n",
              "4              No          ALQ       263.0          Unf         0.0   \n",
              "...           ...          ...         ...          ...         ...   \n",
              "1454           No          Unf         0.0          Unf         0.0   \n",
              "1455           No          Rec       252.0          Unf         0.0   \n",
              "1456           No          ALQ      1224.0          Unf         0.0   \n",
              "1457           Av          GLQ       337.0          Unf         0.0   \n",
              "1458           Av          LwQ       758.0          Unf         0.0   \n",
              "\n",
              "      BsmtUnfSF  TotalBsmtSF Heating HeatingQC CentralAir Electrical  \\\n",
              "0         270.0        882.0    GasA        TA          Y      SBrkr   \n",
              "1         406.0       1329.0    GasA        TA          Y      SBrkr   \n",
              "2         137.0        928.0    GasA        Gd          Y      SBrkr   \n",
              "3         324.0        926.0    GasA        Ex          Y      SBrkr   \n",
              "4        1017.0       1280.0    GasA        Ex          Y      SBrkr   \n",
              "...         ...          ...     ...       ...        ...        ...   \n",
              "1454      546.0        546.0    GasA        Gd          Y      SBrkr   \n",
              "1455      294.0        546.0    GasA        TA          Y      SBrkr   \n",
              "1456        0.0       1224.0    GasA        Ex          Y      SBrkr   \n",
              "1457      575.0        912.0    GasA        TA          Y      SBrkr   \n",
              "1458      238.0        996.0    GasA        Ex          Y      SBrkr   \n",
              "\n",
              "      1stFlrSF  2ndFlrSF  LowQualFinSF  GrLivArea  BsmtFullBath  BsmtHalfBath  \\\n",
              "0          896         0             0        896           0.0           0.0   \n",
              "1         1329         0             0       1329           0.0           0.0   \n",
              "2          928       701             0       1629           0.0           0.0   \n",
              "3          926       678             0       1604           0.0           0.0   \n",
              "4         1280         0             0       1280           0.0           0.0   \n",
              "...        ...       ...           ...        ...           ...           ...   \n",
              "1454       546       546             0       1092           0.0           0.0   \n",
              "1455       546       546             0       1092           0.0           0.0   \n",
              "1456      1224         0             0       1224           1.0           0.0   \n",
              "1457       970         0             0        970           0.0           1.0   \n",
              "1458       996      1004             0       2000           0.0           0.0   \n",
              "\n",
              "      FullBath  HalfBath  BedroomAbvGr  KitchenAbvGr KitchenQual  \\\n",
              "0            1         0             2             1          TA   \n",
              "1            1         1             3             1          Gd   \n",
              "2            2         1             3             1          TA   \n",
              "3            2         1             3             1          Gd   \n",
              "4            2         0             2             1          Gd   \n",
              "...        ...       ...           ...           ...         ...   \n",
              "1454         1         1             3             1          TA   \n",
              "1455         1         1             3             1          TA   \n",
              "1456         1         0             4             1          TA   \n",
              "1457         1         0             3             1          TA   \n",
              "1458         2         1             3             1          TA   \n",
              "\n",
              "      TotRmsAbvGrd Functional  Fireplaces FireplaceQu GarageType  GarageYrBlt  \\\n",
              "0                5        Typ           0         NaN     Attchd       1961.0   \n",
              "1                6        Typ           0         NaN     Attchd       1958.0   \n",
              "2                6        Typ           1          TA     Attchd       1997.0   \n",
              "3                7        Typ           1          Gd     Attchd       1998.0   \n",
              "4                5        Typ           0         NaN     Attchd       1992.0   \n",
              "...            ...        ...         ...         ...        ...          ...   \n",
              "1454             5        Typ           0         NaN        NaN          NaN   \n",
              "1455             6        Typ           0         NaN    CarPort       1970.0   \n",
              "1456             7        Typ           1          TA     Detchd       1960.0   \n",
              "1457             6        Typ           0         NaN        NaN          NaN   \n",
              "1458             9        Typ           1          TA     Attchd       1993.0   \n",
              "\n",
              "     GarageFinish  GarageCars  GarageArea GarageQual GarageCond PavedDrive  \\\n",
              "0             Unf         1.0       730.0         TA         TA          Y   \n",
              "1             Unf         1.0       312.0         TA         TA          Y   \n",
              "2             Fin         2.0       482.0         TA         TA          Y   \n",
              "3             Fin         2.0       470.0         TA         TA          Y   \n",
              "4             RFn         2.0       506.0         TA         TA          Y   \n",
              "...           ...         ...         ...        ...        ...        ...   \n",
              "1454          NaN         0.0         0.0        NaN        NaN          Y   \n",
              "1455          Unf         1.0       286.0         TA         TA          Y   \n",
              "1456          Unf         2.0       576.0         TA         TA          Y   \n",
              "1457          NaN         0.0         0.0        NaN        NaN          Y   \n",
              "1458          Fin         3.0       650.0         TA         TA          Y   \n",
              "\n",
              "      WoodDeckSF  OpenPorchSF  EnclosedPorch  3SsnPorch  ScreenPorch  \\\n",
              "0            140            0              0          0          120   \n",
              "1            393           36              0          0            0   \n",
              "2            212           34              0          0            0   \n",
              "3            360           36              0          0            0   \n",
              "4              0           82              0          0          144   \n",
              "...          ...          ...            ...        ...          ...   \n",
              "1454           0            0              0          0            0   \n",
              "1455           0           24              0          0            0   \n",
              "1456         474            0              0          0            0   \n",
              "1457          80           32              0          0            0   \n",
              "1458         190           48              0          0            0   \n",
              "\n",
              "      PoolArea PoolQC  Fence MiscFeature  MiscVal  MoSold  YrSold SaleType  \\\n",
              "0            0    NaN  MnPrv         NaN        0       6    2010       WD   \n",
              "1            0    NaN    NaN        Gar2    12500       6    2010       WD   \n",
              "2            0    NaN  MnPrv         NaN        0       3    2010       WD   \n",
              "3            0    NaN    NaN         NaN        0       6    2010       WD   \n",
              "4            0    NaN    NaN         NaN        0       1    2010       WD   \n",
              "...        ...    ...    ...         ...      ...     ...     ...      ...   \n",
              "1454         0    NaN    NaN         NaN        0       6    2006       WD   \n",
              "1455         0    NaN    NaN         NaN        0       4    2006       WD   \n",
              "1456         0    NaN    NaN         NaN        0       9    2006       WD   \n",
              "1457         0    NaN  MnPrv        Shed      700       7    2006       WD   \n",
              "1458         0    NaN    NaN         NaN        0      11    2006       WD   \n",
              "\n",
              "     SaleCondition  \n",
              "0           Normal  \n",
              "1           Normal  \n",
              "2           Normal  \n",
              "3           Normal  \n",
              "4           Normal  \n",
              "...            ...  \n",
              "1454        Normal  \n",
              "1455       Abnorml  \n",
              "1456       Abnorml  \n",
              "1457        Normal  \n",
              "1458        Normal  \n",
              "\n",
              "[1459 rows x 80 columns]"
            ]
          },
          "metadata": {
            "tags": []
          },
          "execution_count": 259
        }
      ]
    },
    {
      "cell_type": "markdown",
      "metadata": {
        "id": "hourly-government"
      },
      "source": [
        "First, we need to reapply all the preprocessing steps."
      ],
      "id": "hourly-government"
    },
    {
      "cell_type": "code",
      "metadata": {
        "id": "sunset-chick"
      },
      "source": [
        "test_df[numeric_cols] = imputer.transform(test_df[numeric_cols])\n",
        "test_df[numeric_cols] = scaler.transform(test_df[numeric_cols])\n",
        "test_df[encoded_cols] = encoder.transform(test_df[categorical_cols])"
      ],
      "id": "sunset-chick",
      "execution_count": null,
      "outputs": []
    },
    {
      "cell_type": "code",
      "metadata": {
        "id": "thirty-contract"
      },
      "source": [
        "test_inputs = test_df[numeric_cols + encoded_cols]"
      ],
      "id": "thirty-contract",
      "execution_count": null,
      "outputs": []
    },
    {
      "cell_type": "markdown",
      "metadata": {
        "id": "secret-constitutional"
      },
      "source": [
        "We can now make predictions using our final model."
      ],
      "id": "secret-constitutional"
    },
    {
      "cell_type": "code",
      "metadata": {
        "id": "extreme-edinburgh"
      },
      "source": [
        "test_preds = rf2.predict(test_inputs)"
      ],
      "id": "extreme-edinburgh",
      "execution_count": null,
      "outputs": []
    },
    {
      "cell_type": "code",
      "metadata": {
        "id": "solid-charger"
      },
      "source": [
        "submission_df = pd.read_csv('house-prices/sample_submission.csv')"
      ],
      "id": "solid-charger",
      "execution_count": null,
      "outputs": []
    },
    {
      "cell_type": "code",
      "metadata": {
        "id": "fifth-adobe",
        "colab": {
          "base_uri": "https://localhost:8080/",
          "height": 419
        },
        "outputId": "49ffa472-d8a3-4243-e989-1e6ab3ccb477"
      },
      "source": [
        "submission_df"
      ],
      "id": "fifth-adobe",
      "execution_count": null,
      "outputs": [
        {
          "output_type": "execute_result",
          "data": {
            "text/html": [
              "<div>\n",
              "<style scoped>\n",
              "    .dataframe tbody tr th:only-of-type {\n",
              "        vertical-align: middle;\n",
              "    }\n",
              "\n",
              "    .dataframe tbody tr th {\n",
              "        vertical-align: top;\n",
              "    }\n",
              "\n",
              "    .dataframe thead th {\n",
              "        text-align: right;\n",
              "    }\n",
              "</style>\n",
              "<table border=\"1\" class=\"dataframe\">\n",
              "  <thead>\n",
              "    <tr style=\"text-align: right;\">\n",
              "      <th></th>\n",
              "      <th>Id</th>\n",
              "      <th>SalePrice</th>\n",
              "    </tr>\n",
              "  </thead>\n",
              "  <tbody>\n",
              "    <tr>\n",
              "      <th>0</th>\n",
              "      <td>1461</td>\n",
              "      <td>169277.052498</td>\n",
              "    </tr>\n",
              "    <tr>\n",
              "      <th>1</th>\n",
              "      <td>1462</td>\n",
              "      <td>187758.393989</td>\n",
              "    </tr>\n",
              "    <tr>\n",
              "      <th>2</th>\n",
              "      <td>1463</td>\n",
              "      <td>183583.683570</td>\n",
              "    </tr>\n",
              "    <tr>\n",
              "      <th>3</th>\n",
              "      <td>1464</td>\n",
              "      <td>179317.477511</td>\n",
              "    </tr>\n",
              "    <tr>\n",
              "      <th>4</th>\n",
              "      <td>1465</td>\n",
              "      <td>150730.079977</td>\n",
              "    </tr>\n",
              "    <tr>\n",
              "      <th>...</th>\n",
              "      <td>...</td>\n",
              "      <td>...</td>\n",
              "    </tr>\n",
              "    <tr>\n",
              "      <th>1454</th>\n",
              "      <td>2915</td>\n",
              "      <td>167081.220949</td>\n",
              "    </tr>\n",
              "    <tr>\n",
              "      <th>1455</th>\n",
              "      <td>2916</td>\n",
              "      <td>164788.778231</td>\n",
              "    </tr>\n",
              "    <tr>\n",
              "      <th>1456</th>\n",
              "      <td>2917</td>\n",
              "      <td>219222.423400</td>\n",
              "    </tr>\n",
              "    <tr>\n",
              "      <th>1457</th>\n",
              "      <td>2918</td>\n",
              "      <td>184924.279659</td>\n",
              "    </tr>\n",
              "    <tr>\n",
              "      <th>1458</th>\n",
              "      <td>2919</td>\n",
              "      <td>187741.866657</td>\n",
              "    </tr>\n",
              "  </tbody>\n",
              "</table>\n",
              "<p>1459 rows × 2 columns</p>\n",
              "</div>"
            ],
            "text/plain": [
              "        Id      SalePrice\n",
              "0     1461  169277.052498\n",
              "1     1462  187758.393989\n",
              "2     1463  183583.683570\n",
              "3     1464  179317.477511\n",
              "4     1465  150730.079977\n",
              "...    ...            ...\n",
              "1454  2915  167081.220949\n",
              "1455  2916  164788.778231\n",
              "1456  2917  219222.423400\n",
              "1457  2918  184924.279659\n",
              "1458  2919  187741.866657\n",
              "\n",
              "[1459 rows x 2 columns]"
            ]
          },
          "metadata": {
            "tags": []
          },
          "execution_count": 264
        }
      ]
    },
    {
      "cell_type": "markdown",
      "metadata": {
        "id": "capital-seven"
      },
      "source": [
        "Let's replace the values of the `SalePrice` column with our predictions."
      ],
      "id": "capital-seven"
    },
    {
      "cell_type": "code",
      "metadata": {
        "id": "personal-learning"
      },
      "source": [
        "submission_df['SalePrice'] = test_preds"
      ],
      "id": "personal-learning",
      "execution_count": null,
      "outputs": []
    },
    {
      "cell_type": "markdown",
      "metadata": {
        "id": "informed-monitoring"
      },
      "source": [
        "Let's save it as a CSV file and download it."
      ],
      "id": "informed-monitoring"
    },
    {
      "cell_type": "code",
      "metadata": {
        "id": "polish-missile"
      },
      "source": [
        "submission_df.to_csv('submission.csv', index=False)"
      ],
      "id": "polish-missile",
      "execution_count": null,
      "outputs": []
    },
    {
      "cell_type": "code",
      "metadata": {
        "id": "acting-national",
        "colab": {
          "base_uri": "https://localhost:8080/",
          "height": 34
        },
        "outputId": "ff3415d9-f4df-427b-9368-c0ea30979079"
      },
      "source": [
        "from IPython.display import FileLink\n",
        "FileLink('submission.csv') # Doesn't work on Colab, use the file browser instead to download the file."
      ],
      "id": "acting-national",
      "execution_count": null,
      "outputs": [
        {
          "output_type": "execute_result",
          "data": {
            "text/html": [
              "<a href='submission.csv' target='_blank'>submission.csv</a><br>"
            ],
            "text/plain": [
              "/content/submission.csv"
            ]
          },
          "metadata": {
            "tags": []
          },
          "execution_count": 267
        }
      ]
    },
    {
      "cell_type": "markdown",
      "metadata": {
        "id": "national-knowing"
      },
      "source": [
        "We can now submit this file to the competition: https://www.kaggle.com/c/house-prices-advanced-regression-techniques/submissions\n",
        "\n",
        "![](https://i.imgur.com/6h2vXRq.png)\n"
      ],
      "id": "national-knowing"
    },
    {
      "cell_type": "markdown",
      "metadata": {
        "id": "twelve-intention"
      },
      "source": [
        "> **(OPTIONAL) QUESTION**: Submit your predictions to the competition. Experiment with different models, feature engineering strategies and hyperparameters and try to reach the top 10% on the leaderboard."
      ],
      "id": "twelve-intention"
    },
    {
      "cell_type": "code",
      "metadata": {
        "id": "super-beverage"
      },
      "source": [
        ""
      ],
      "id": "super-beverage",
      "execution_count": null,
      "outputs": []
    },
    {
      "cell_type": "code",
      "metadata": {
        "id": "accredited-establishment"
      },
      "source": [
        ""
      ],
      "id": "accredited-establishment",
      "execution_count": null,
      "outputs": []
    },
    {
      "cell_type": "markdown",
      "metadata": {
        "id": "pediatric-instruction"
      },
      "source": [
        "Let's save our work before continuing."
      ],
      "id": "pediatric-instruction"
    },
    {
      "cell_type": "markdown",
      "metadata": {
        "id": "suffering-belize"
      },
      "source": [
        "### Making Predictions on Single Inputs"
      ],
      "id": "suffering-belize"
    },
    {
      "cell_type": "code",
      "metadata": {
        "id": "extended-hindu"
      },
      "source": [
        "def predict_input(model, single_input):\n",
        "    input_df = pd.DataFrame([single_input])\n",
        "    input_df[numeric_cols] = imputer.transform(input_df[numeric_cols])\n",
        "    input_df[numeric_cols] = scaler.transform(input_df[numeric_cols])\n",
        "    input_df[encoded_cols] = encoder.transform(input_df[categorical_cols].values)\n",
        "    return model.predict(input_df[numeric_cols + encoded_cols])[0]"
      ],
      "id": "extended-hindu",
      "execution_count": null,
      "outputs": []
    },
    {
      "cell_type": "code",
      "metadata": {
        "id": "portuguese-concentration"
      },
      "source": [
        "sample_input = { 'MSSubClass': 20, 'MSZoning': 'RL', 'LotFrontage': 77.0, 'LotArea': 9320,\n",
        " 'Street': 'Pave', 'Alley': None, 'LotShape': 'IR1', 'LandContour': 'Lvl', 'Utilities': 'AllPub',\n",
        " 'LotConfig': 'Inside', 'LandSlope': 'Gtl', 'Neighborhood': 'NAmes', 'Condition1': 'Norm', 'Condition2': 'Norm',\n",
        " 'BldgType': '1Fam', 'HouseStyle': '1Story', 'OverallQual': 4, 'OverallCond': 5, 'YearBuilt': 1959,\n",
        " 'YearRemodAdd': 1959, 'RoofStyle': 'Gable', 'RoofMatl': 'CompShg', 'Exterior1st': 'Plywood',\n",
        " 'Exterior2nd': 'Plywood', 'MasVnrType': 'None','MasVnrArea': 0.0,'ExterQual': 'TA','ExterCond': 'TA',\n",
        " 'Foundation': 'CBlock','BsmtQual': 'TA','BsmtCond': 'TA','BsmtExposure': 'No','BsmtFinType1': 'ALQ',\n",
        " 'BsmtFinSF1': 569,'BsmtFinType2': 'Unf','BsmtFinSF2': 0,'BsmtUnfSF': 381,\n",
        " 'TotalBsmtSF': 950,'Heating': 'GasA','HeatingQC': 'Fa','CentralAir': 'Y','Electrical': 'SBrkr', '1stFlrSF': 1225,\n",
        " '2ndFlrSF': 0, 'LowQualFinSF': 0, 'GrLivArea': 1225, 'BsmtFullBath': 1, 'BsmtHalfBath': 0, 'FullBath': 1,\n",
        " 'HalfBath': 1, 'BedroomAbvGr': 3, 'KitchenAbvGr': 1,'KitchenQual': 'TA','TotRmsAbvGrd': 6,'Functional': 'Typ',\n",
        " 'Fireplaces': 0,'FireplaceQu': np.nan,'GarageType': np.nan,'GarageYrBlt': np.nan,'GarageFinish': np.nan,'GarageCars': 0,\n",
        " 'GarageArea': 0,'GarageQual': np.nan,'GarageCond': np.nan,'PavedDrive': 'Y', 'WoodDeckSF': 352, 'OpenPorchSF': 0,\n",
        " 'EnclosedPorch': 0,'3SsnPorch': 0, 'ScreenPorch': 0, 'PoolArea': 0, 'PoolQC': np.nan, 'Fence': np.nan, 'MiscFeature': 'Shed',\n",
        " 'MiscVal': 400, 'MoSold': 1, 'YrSold': 2010, 'SaleType': 'WD', 'SaleCondition': 'Normal'}"
      ],
      "id": "portuguese-concentration",
      "execution_count": null,
      "outputs": []
    },
    {
      "cell_type": "code",
      "metadata": {
        "id": "reverse-duplicate"
      },
      "source": [
        "predicted_price = predict_input(rf2, sample_input)"
      ],
      "id": "reverse-duplicate",
      "execution_count": null,
      "outputs": []
    },
    {
      "cell_type": "code",
      "metadata": {
        "id": "protective-elizabeth",
        "colab": {
          "base_uri": "https://localhost:8080/"
        },
        "outputId": "fbf2c0ee-a07c-4e6d-a55e-5502a8a0af07"
      },
      "source": [
        "print('The predicted sale price of the house is ${}'.format(predicted_price))"
      ],
      "id": "protective-elizabeth",
      "execution_count": null,
      "outputs": [
        {
          "output_type": "stream",
          "text": [
            "The predicted sale price of the house is $121834.20592135648\n"
          ],
          "name": "stdout"
        }
      ]
    },
    {
      "cell_type": "markdown",
      "metadata": {
        "id": "unlimited-pursuit"
      },
      "source": [
        "> **EXERCISE**: Change the sample input above and make predictions. Try different examples and try to figure out which columns have a big impact on the sale price. Hint: Look at the feature importance to decide which columns to try."
      ],
      "id": "unlimited-pursuit"
    },
    {
      "cell_type": "code",
      "metadata": {
        "id": "unable-percentage"
      },
      "source": [
        ""
      ],
      "id": "unable-percentage",
      "execution_count": null,
      "outputs": []
    },
    {
      "cell_type": "code",
      "metadata": {
        "id": "legislative-decade"
      },
      "source": [
        ""
      ],
      "id": "legislative-decade",
      "execution_count": null,
      "outputs": []
    },
    {
      "cell_type": "markdown",
      "metadata": {
        "id": "eight-source"
      },
      "source": [
        "### Saving the Model"
      ],
      "id": "eight-source"
    },
    {
      "cell_type": "code",
      "metadata": {
        "id": "boring-insight"
      },
      "source": [
        "import joblib"
      ],
      "id": "boring-insight",
      "execution_count": null,
      "outputs": []
    },
    {
      "cell_type": "code",
      "metadata": {
        "id": "practical-distribution"
      },
      "source": [
        "house_prices_rf = {\n",
        "    'model': rf2,\n",
        "    'imputer': imputer,\n",
        "    'scaler': scaler,\n",
        "    'encoder': encoder,\n",
        "    'input_cols': input_cols,\n",
        "    'target_col': target_col,\n",
        "    'numeric_cols': numeric_cols,\n",
        "    'categorical_cols': categorical_cols,\n",
        "    'encoded_cols': encoded_cols\n",
        "}"
      ],
      "id": "practical-distribution",
      "execution_count": null,
      "outputs": []
    },
    {
      "cell_type": "code",
      "metadata": {
        "id": "animated-spoke",
        "colab": {
          "base_uri": "https://localhost:8080/"
        },
        "outputId": "65744c18-e0ea-4f8e-cb6f-3bd18c9f2755"
      },
      "source": [
        "joblib.dump(house_prices_rf, 'house_prices_rf.joblib')"
      ],
      "id": "animated-spoke",
      "execution_count": null,
      "outputs": [
        {
          "output_type": "execute_result",
          "data": {
            "text/plain": [
              "['house_prices_rf.joblib']"
            ]
          },
          "metadata": {
            "tags": []
          },
          "execution_count": 275
        }
      ]
    },
    {
      "cell_type": "markdown",
      "metadata": {
        "id": "normal-culture"
      },
      "source": [
        "Let's save our work before continuing."
      ],
      "id": "normal-culture"
    },
    {
      "cell_type": "markdown",
      "metadata": {
        "id": "loved-clause"
      },
      "source": [
        "### Predicting the Logarithm of Sale Price"
      ],
      "id": "loved-clause"
    },
    {
      "cell_type": "markdown",
      "metadata": {
        "id": "talented-introduction"
      },
      "source": [
        "> **(OPTIONAL) QUESTION**: In the [original Kaggle competition](https://www.kaggle.com/c/house-prices-advanced-regression-techniques/overview/evaluation), the model is evaluated by computing the Root Mean Squared Error on the logarithm of the sale price. Try training a random forest to predict the logarithm of the sale price, instead of the actual sales price and see if the results you obtain are better than the models trained above."
      ],
      "id": "talented-introduction"
    },
    {
      "cell_type": "code",
      "metadata": {
        "id": "driven-lobby"
      },
      "source": [
        ""
      ],
      "id": "driven-lobby",
      "execution_count": null,
      "outputs": []
    },
    {
      "cell_type": "code",
      "metadata": {
        "id": "entitled-island"
      },
      "source": [
        ""
      ],
      "id": "entitled-island",
      "execution_count": null,
      "outputs": []
    }
  ]
}